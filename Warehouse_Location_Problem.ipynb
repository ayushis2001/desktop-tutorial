{
  "nbformat": 4,
  "nbformat_minor": 0,
  "metadata": {
    "colab": {
      "name": "Warehouse Location Problem",
      "provenance": []
    },
    "kernelspec": {
      "name": "python3",
      "display_name": "Python 3"
    },
    "language_info": {
      "name": "python"
    }
  },
  "cells": [
    {
      "cell_type": "markdown",
      "source": [
        "# Name : Ayushi Singh\n",
        "\n",
        "# Roll No : 200258\n",
        "\n",
        "# Warehouse Location Problem"
      ],
      "metadata": {
        "id": "mRKuOr34qnug"
      }
    },
    {
      "cell_type": "markdown",
      "source": [
        "An online retailer has collected data on the location (latitude and longitude) of its customers\n",
        "and their average monthly purchase (in kgs) for four product categories - Apparel, Books,\n",
        "Electronics and Grocery. "
      ],
      "metadata": {
        "id": "wgT9PIVtZxvW"
      }
    },
    {
      "cell_type": "markdown",
      "source": [
        "Importing libraries "
      ],
      "metadata": {
        "id": "tzN9K3-qsgUs"
      }
    },
    {
      "cell_type": "code",
      "metadata": {
        "id": "QPept2ENAsQH"
      },
      "source": [
        "import pandas as pd\n",
        "import os\n",
        "import matplotlib.pyplot as plt\n",
        "import seaborn as sns\n",
        "import math\n",
        "import numpy as np"
      ],
      "execution_count": 41,
      "outputs": []
    },
    {
      "cell_type": "code",
      "metadata": {
        "id": "-5fSzZpJB60z"
      },
      "source": [
        "dataset=pd.read_csv('/content/Customer_Data.csv')"
      ],
      "execution_count": 42,
      "outputs": []
    },
    {
      "cell_type": "code",
      "metadata": {
        "colab": {
          "base_uri": "https://localhost:8080/",
          "height": 206
        },
        "id": "KMab03TW3t3T",
        "outputId": "6c402942-8a4e-458a-8dbc-3903ce5e8632"
      },
      "source": [
        "dataset.head()"
      ],
      "execution_count": 43,
      "outputs": [
        {
          "output_type": "execute_result",
          "data": {
            "text/plain": [
              "    Latitude  Longitude  Apparel  Books  Electronics  Grocery\n",
              "0  30.453290  76.394585     6.83   4.34         0.77    14.58\n",
              "1  26.301717  80.133402    15.48   9.89         0.93     1.38\n",
              "2  10.482971  76.384688     1.21   8.26         0.57    12.96\n",
              "3  26.301717  80.130000     3.04   9.54         0.53    15.58\n",
              "4  31.022162  76.724332     6.74   0.21        14.40     1.14"
            ],
            "text/html": [
              "\n",
              "  <div id=\"df-ae3dda15-d3c6-4bdb-9718-282464bd724c\">\n",
              "    <div class=\"colab-df-container\">\n",
              "      <div>\n",
              "<style scoped>\n",
              "    .dataframe tbody tr th:only-of-type {\n",
              "        vertical-align: middle;\n",
              "    }\n",
              "\n",
              "    .dataframe tbody tr th {\n",
              "        vertical-align: top;\n",
              "    }\n",
              "\n",
              "    .dataframe thead th {\n",
              "        text-align: right;\n",
              "    }\n",
              "</style>\n",
              "<table border=\"1\" class=\"dataframe\">\n",
              "  <thead>\n",
              "    <tr style=\"text-align: right;\">\n",
              "      <th></th>\n",
              "      <th>Latitude</th>\n",
              "      <th>Longitude</th>\n",
              "      <th>Apparel</th>\n",
              "      <th>Books</th>\n",
              "      <th>Electronics</th>\n",
              "      <th>Grocery</th>\n",
              "    </tr>\n",
              "  </thead>\n",
              "  <tbody>\n",
              "    <tr>\n",
              "      <th>0</th>\n",
              "      <td>30.453290</td>\n",
              "      <td>76.394585</td>\n",
              "      <td>6.83</td>\n",
              "      <td>4.34</td>\n",
              "      <td>0.77</td>\n",
              "      <td>14.58</td>\n",
              "    </tr>\n",
              "    <tr>\n",
              "      <th>1</th>\n",
              "      <td>26.301717</td>\n",
              "      <td>80.133402</td>\n",
              "      <td>15.48</td>\n",
              "      <td>9.89</td>\n",
              "      <td>0.93</td>\n",
              "      <td>1.38</td>\n",
              "    </tr>\n",
              "    <tr>\n",
              "      <th>2</th>\n",
              "      <td>10.482971</td>\n",
              "      <td>76.384688</td>\n",
              "      <td>1.21</td>\n",
              "      <td>8.26</td>\n",
              "      <td>0.57</td>\n",
              "      <td>12.96</td>\n",
              "    </tr>\n",
              "    <tr>\n",
              "      <th>3</th>\n",
              "      <td>26.301717</td>\n",
              "      <td>80.130000</td>\n",
              "      <td>3.04</td>\n",
              "      <td>9.54</td>\n",
              "      <td>0.53</td>\n",
              "      <td>15.58</td>\n",
              "    </tr>\n",
              "    <tr>\n",
              "      <th>4</th>\n",
              "      <td>31.022162</td>\n",
              "      <td>76.724332</td>\n",
              "      <td>6.74</td>\n",
              "      <td>0.21</td>\n",
              "      <td>14.40</td>\n",
              "      <td>1.14</td>\n",
              "    </tr>\n",
              "  </tbody>\n",
              "</table>\n",
              "</div>\n",
              "      <button class=\"colab-df-convert\" onclick=\"convertToInteractive('df-ae3dda15-d3c6-4bdb-9718-282464bd724c')\"\n",
              "              title=\"Convert this dataframe to an interactive table.\"\n",
              "              style=\"display:none;\">\n",
              "        \n",
              "  <svg xmlns=\"http://www.w3.org/2000/svg\" height=\"24px\"viewBox=\"0 0 24 24\"\n",
              "       width=\"24px\">\n",
              "    <path d=\"M0 0h24v24H0V0z\" fill=\"none\"/>\n",
              "    <path d=\"M18.56 5.44l.94 2.06.94-2.06 2.06-.94-2.06-.94-.94-2.06-.94 2.06-2.06.94zm-11 1L8.5 8.5l.94-2.06 2.06-.94-2.06-.94L8.5 2.5l-.94 2.06-2.06.94zm10 10l.94 2.06.94-2.06 2.06-.94-2.06-.94-.94-2.06-.94 2.06-2.06.94z\"/><path d=\"M17.41 7.96l-1.37-1.37c-.4-.4-.92-.59-1.43-.59-.52 0-1.04.2-1.43.59L10.3 9.45l-7.72 7.72c-.78.78-.78 2.05 0 2.83L4 21.41c.39.39.9.59 1.41.59.51 0 1.02-.2 1.41-.59l7.78-7.78 2.81-2.81c.8-.78.8-2.07 0-2.86zM5.41 20L4 18.59l7.72-7.72 1.47 1.35L5.41 20z\"/>\n",
              "  </svg>\n",
              "      </button>\n",
              "      \n",
              "  <style>\n",
              "    .colab-df-container {\n",
              "      display:flex;\n",
              "      flex-wrap:wrap;\n",
              "      gap: 12px;\n",
              "    }\n",
              "\n",
              "    .colab-df-convert {\n",
              "      background-color: #E8F0FE;\n",
              "      border: none;\n",
              "      border-radius: 50%;\n",
              "      cursor: pointer;\n",
              "      display: none;\n",
              "      fill: #1967D2;\n",
              "      height: 32px;\n",
              "      padding: 0 0 0 0;\n",
              "      width: 32px;\n",
              "    }\n",
              "\n",
              "    .colab-df-convert:hover {\n",
              "      background-color: #E2EBFA;\n",
              "      box-shadow: 0px 1px 2px rgba(60, 64, 67, 0.3), 0px 1px 3px 1px rgba(60, 64, 67, 0.15);\n",
              "      fill: #174EA6;\n",
              "    }\n",
              "\n",
              "    [theme=dark] .colab-df-convert {\n",
              "      background-color: #3B4455;\n",
              "      fill: #D2E3FC;\n",
              "    }\n",
              "\n",
              "    [theme=dark] .colab-df-convert:hover {\n",
              "      background-color: #434B5C;\n",
              "      box-shadow: 0px 1px 3px 1px rgba(0, 0, 0, 0.15);\n",
              "      filter: drop-shadow(0px 1px 2px rgba(0, 0, 0, 0.3));\n",
              "      fill: #FFFFFF;\n",
              "    }\n",
              "  </style>\n",
              "\n",
              "      <script>\n",
              "        const buttonEl =\n",
              "          document.querySelector('#df-ae3dda15-d3c6-4bdb-9718-282464bd724c button.colab-df-convert');\n",
              "        buttonEl.style.display =\n",
              "          google.colab.kernel.accessAllowed ? 'block' : 'none';\n",
              "\n",
              "        async function convertToInteractive(key) {\n",
              "          const element = document.querySelector('#df-ae3dda15-d3c6-4bdb-9718-282464bd724c');\n",
              "          const dataTable =\n",
              "            await google.colab.kernel.invokeFunction('convertToInteractive',\n",
              "                                                     [key], {});\n",
              "          if (!dataTable) return;\n",
              "\n",
              "          const docLinkHtml = 'Like what you see? Visit the ' +\n",
              "            '<a target=\"_blank\" href=https://colab.research.google.com/notebooks/data_table.ipynb>data table notebook</a>'\n",
              "            + ' to learn more about interactive tables.';\n",
              "          element.innerHTML = '';\n",
              "          dataTable['output_type'] = 'display_data';\n",
              "          await google.colab.output.renderOutput(dataTable, element);\n",
              "          const docLink = document.createElement('div');\n",
              "          docLink.innerHTML = docLinkHtml;\n",
              "          element.appendChild(docLink);\n",
              "        }\n",
              "      </script>\n",
              "    </div>\n",
              "  </div>\n",
              "  "
            ]
          },
          "metadata": {},
          "execution_count": 43
        }
      ]
    },
    {
      "cell_type": "code",
      "metadata": {
        "colab": {
          "base_uri": "https://localhost:8080/"
        },
        "id": "lGgOtujf3vRG",
        "outputId": "a8fbfb74-4a87-46da-cd71-6b4891aa318a"
      },
      "source": [
        "np.mean(dataset['Latitude'])"
      ],
      "execution_count": 44,
      "outputs": [
        {
          "output_type": "execute_result",
          "data": {
            "text/plain": [
              "24.229996390126583"
            ]
          },
          "metadata": {},
          "execution_count": 44
        }
      ]
    },
    {
      "cell_type": "code",
      "metadata": {
        "colab": {
          "base_uri": "https://localhost:8080/"
        },
        "id": "RuQ67YlVmQ-F",
        "outputId": "65f3c85e-2a9e-4727-809f-45101d3363e9"
      },
      "source": [
        "print(np.sum(dataset['Apparel']))\n",
        "print(np.sum(dataset['Books']))\n",
        "print(np.sum(dataset['Electronics']))\n",
        "print(np.sum(dataset['Grocery']))\n",
        "print()\n",
        "print(401.7200000000001+\n",
        "561.7599999999999+\n",
        "300.88999999999993+\n",
        "787.22)"
      ],
      "execution_count": 45,
      "outputs": [
        {
          "output_type": "stream",
          "name": "stdout",
          "text": [
            "405.2400000000001\n",
            "589.91\n",
            "309.02\n",
            "806.3399999999999\n",
            "\n",
            "2051.59\n"
          ]
        }
      ]
    },
    {
      "cell_type": "code",
      "metadata": {
        "colab": {
          "base_uri": "https://localhost:8080/",
          "height": 300
        },
        "id": "OnNe7E894AgT",
        "outputId": "48fcc47a-4155-435f-e9dd-c3b975842a3c"
      },
      "source": [
        "dataset.describe()"
      ],
      "execution_count": 80,
      "outputs": [
        {
          "output_type": "execute_result",
          "data": {
            "text/plain": [
              "        Latitude  Longitude    Apparel      Books  Electronics    Grocery\n",
              "count  79.000000  79.000000  79.000000  79.000000    79.000000  79.000000\n",
              "mean   24.229996  79.481421   5.129620   7.467215     3.911646  10.206835\n",
              "std     4.952235   3.545489   4.944455   6.412815     4.778758   5.929100\n",
              "min     8.469167  73.353185   0.160000   0.110000     0.110000   0.140000\n",
              "25%    22.276201  77.014239   0.935000   0.770000     0.670000   6.145000\n",
              "50%    26.504384  80.196540   3.220000   7.510000     2.100000   9.230000\n",
              "75%    26.529297  80.234894   8.310000  10.740000     5.255000  15.655000\n",
              "max    31.022162  91.778177  18.410000  19.560000    18.260000  19.610000"
            ],
            "text/html": [
              "\n",
              "  <div id=\"df-7fbc62dc-9a22-4149-a2c5-a362f3273368\">\n",
              "    <div class=\"colab-df-container\">\n",
              "      <div>\n",
              "<style scoped>\n",
              "    .dataframe tbody tr th:only-of-type {\n",
              "        vertical-align: middle;\n",
              "    }\n",
              "\n",
              "    .dataframe tbody tr th {\n",
              "        vertical-align: top;\n",
              "    }\n",
              "\n",
              "    .dataframe thead th {\n",
              "        text-align: right;\n",
              "    }\n",
              "</style>\n",
              "<table border=\"1\" class=\"dataframe\">\n",
              "  <thead>\n",
              "    <tr style=\"text-align: right;\">\n",
              "      <th></th>\n",
              "      <th>Latitude</th>\n",
              "      <th>Longitude</th>\n",
              "      <th>Apparel</th>\n",
              "      <th>Books</th>\n",
              "      <th>Electronics</th>\n",
              "      <th>Grocery</th>\n",
              "    </tr>\n",
              "  </thead>\n",
              "  <tbody>\n",
              "    <tr>\n",
              "      <th>count</th>\n",
              "      <td>79.000000</td>\n",
              "      <td>79.000000</td>\n",
              "      <td>79.000000</td>\n",
              "      <td>79.000000</td>\n",
              "      <td>79.000000</td>\n",
              "      <td>79.000000</td>\n",
              "    </tr>\n",
              "    <tr>\n",
              "      <th>mean</th>\n",
              "      <td>24.229996</td>\n",
              "      <td>79.481421</td>\n",
              "      <td>5.129620</td>\n",
              "      <td>7.467215</td>\n",
              "      <td>3.911646</td>\n",
              "      <td>10.206835</td>\n",
              "    </tr>\n",
              "    <tr>\n",
              "      <th>std</th>\n",
              "      <td>4.952235</td>\n",
              "      <td>3.545489</td>\n",
              "      <td>4.944455</td>\n",
              "      <td>6.412815</td>\n",
              "      <td>4.778758</td>\n",
              "      <td>5.929100</td>\n",
              "    </tr>\n",
              "    <tr>\n",
              "      <th>min</th>\n",
              "      <td>8.469167</td>\n",
              "      <td>73.353185</td>\n",
              "      <td>0.160000</td>\n",
              "      <td>0.110000</td>\n",
              "      <td>0.110000</td>\n",
              "      <td>0.140000</td>\n",
              "    </tr>\n",
              "    <tr>\n",
              "      <th>25%</th>\n",
              "      <td>22.276201</td>\n",
              "      <td>77.014239</td>\n",
              "      <td>0.935000</td>\n",
              "      <td>0.770000</td>\n",
              "      <td>0.670000</td>\n",
              "      <td>6.145000</td>\n",
              "    </tr>\n",
              "    <tr>\n",
              "      <th>50%</th>\n",
              "      <td>26.504384</td>\n",
              "      <td>80.196540</td>\n",
              "      <td>3.220000</td>\n",
              "      <td>7.510000</td>\n",
              "      <td>2.100000</td>\n",
              "      <td>9.230000</td>\n",
              "    </tr>\n",
              "    <tr>\n",
              "      <th>75%</th>\n",
              "      <td>26.529297</td>\n",
              "      <td>80.234894</td>\n",
              "      <td>8.310000</td>\n",
              "      <td>10.740000</td>\n",
              "      <td>5.255000</td>\n",
              "      <td>15.655000</td>\n",
              "    </tr>\n",
              "    <tr>\n",
              "      <th>max</th>\n",
              "      <td>31.022162</td>\n",
              "      <td>91.778177</td>\n",
              "      <td>18.410000</td>\n",
              "      <td>19.560000</td>\n",
              "      <td>18.260000</td>\n",
              "      <td>19.610000</td>\n",
              "    </tr>\n",
              "  </tbody>\n",
              "</table>\n",
              "</div>\n",
              "      <button class=\"colab-df-convert\" onclick=\"convertToInteractive('df-7fbc62dc-9a22-4149-a2c5-a362f3273368')\"\n",
              "              title=\"Convert this dataframe to an interactive table.\"\n",
              "              style=\"display:none;\">\n",
              "        \n",
              "  <svg xmlns=\"http://www.w3.org/2000/svg\" height=\"24px\"viewBox=\"0 0 24 24\"\n",
              "       width=\"24px\">\n",
              "    <path d=\"M0 0h24v24H0V0z\" fill=\"none\"/>\n",
              "    <path d=\"M18.56 5.44l.94 2.06.94-2.06 2.06-.94-2.06-.94-.94-2.06-.94 2.06-2.06.94zm-11 1L8.5 8.5l.94-2.06 2.06-.94-2.06-.94L8.5 2.5l-.94 2.06-2.06.94zm10 10l.94 2.06.94-2.06 2.06-.94-2.06-.94-.94-2.06-.94 2.06-2.06.94z\"/><path d=\"M17.41 7.96l-1.37-1.37c-.4-.4-.92-.59-1.43-.59-.52 0-1.04.2-1.43.59L10.3 9.45l-7.72 7.72c-.78.78-.78 2.05 0 2.83L4 21.41c.39.39.9.59 1.41.59.51 0 1.02-.2 1.41-.59l7.78-7.78 2.81-2.81c.8-.78.8-2.07 0-2.86zM5.41 20L4 18.59l7.72-7.72 1.47 1.35L5.41 20z\"/>\n",
              "  </svg>\n",
              "      </button>\n",
              "      \n",
              "  <style>\n",
              "    .colab-df-container {\n",
              "      display:flex;\n",
              "      flex-wrap:wrap;\n",
              "      gap: 12px;\n",
              "    }\n",
              "\n",
              "    .colab-df-convert {\n",
              "      background-color: #E8F0FE;\n",
              "      border: none;\n",
              "      border-radius: 50%;\n",
              "      cursor: pointer;\n",
              "      display: none;\n",
              "      fill: #1967D2;\n",
              "      height: 32px;\n",
              "      padding: 0 0 0 0;\n",
              "      width: 32px;\n",
              "    }\n",
              "\n",
              "    .colab-df-convert:hover {\n",
              "      background-color: #E2EBFA;\n",
              "      box-shadow: 0px 1px 2px rgba(60, 64, 67, 0.3), 0px 1px 3px 1px rgba(60, 64, 67, 0.15);\n",
              "      fill: #174EA6;\n",
              "    }\n",
              "\n",
              "    [theme=dark] .colab-df-convert {\n",
              "      background-color: #3B4455;\n",
              "      fill: #D2E3FC;\n",
              "    }\n",
              "\n",
              "    [theme=dark] .colab-df-convert:hover {\n",
              "      background-color: #434B5C;\n",
              "      box-shadow: 0px 1px 3px 1px rgba(0, 0, 0, 0.15);\n",
              "      filter: drop-shadow(0px 1px 2px rgba(0, 0, 0, 0.3));\n",
              "      fill: #FFFFFF;\n",
              "    }\n",
              "  </style>\n",
              "\n",
              "      <script>\n",
              "        const buttonEl =\n",
              "          document.querySelector('#df-7fbc62dc-9a22-4149-a2c5-a362f3273368 button.colab-df-convert');\n",
              "        buttonEl.style.display =\n",
              "          google.colab.kernel.accessAllowed ? 'block' : 'none';\n",
              "\n",
              "        async function convertToInteractive(key) {\n",
              "          const element = document.querySelector('#df-7fbc62dc-9a22-4149-a2c5-a362f3273368');\n",
              "          const dataTable =\n",
              "            await google.colab.kernel.invokeFunction('convertToInteractive',\n",
              "                                                     [key], {});\n",
              "          if (!dataTable) return;\n",
              "\n",
              "          const docLinkHtml = 'Like what you see? Visit the ' +\n",
              "            '<a target=\"_blank\" href=https://colab.research.google.com/notebooks/data_table.ipynb>data table notebook</a>'\n",
              "            + ' to learn more about interactive tables.';\n",
              "          element.innerHTML = '';\n",
              "          dataTable['output_type'] = 'display_data';\n",
              "          await google.colab.output.renderOutput(dataTable, element);\n",
              "          const docLink = document.createElement('div');\n",
              "          docLink.innerHTML = docLinkHtml;\n",
              "          element.appendChild(docLink);\n",
              "        }\n",
              "      </script>\n",
              "    </div>\n",
              "  </div>\n",
              "  "
            ]
          },
          "metadata": {},
          "execution_count": 80
        }
      ]
    },
    {
      "cell_type": "code",
      "metadata": {
        "colab": {
          "base_uri": "https://localhost:8080/"
        },
        "id": "d3s8U9Ls6beM",
        "outputId": "088df655-13ef-420d-802c-8f769b33f9da"
      },
      "source": [
        "dataset.info()"
      ],
      "execution_count": 47,
      "outputs": [
        {
          "output_type": "stream",
          "name": "stdout",
          "text": [
            "<class 'pandas.core.frame.DataFrame'>\n",
            "RangeIndex: 79 entries, 0 to 78\n",
            "Data columns (total 6 columns):\n",
            " #   Column       Non-Null Count  Dtype  \n",
            "---  ------       --------------  -----  \n",
            " 0   Latitude     79 non-null     float64\n",
            " 1   Longitude    79 non-null     float64\n",
            " 2   Apparel      79 non-null     float64\n",
            " 3   Books        79 non-null     float64\n",
            " 4   Electronics  79 non-null     float64\n",
            " 5   Grocery      79 non-null     float64\n",
            "dtypes: float64(6)\n",
            "memory usage: 3.8 KB\n"
          ]
        }
      ]
    },
    {
      "cell_type": "code",
      "metadata": {
        "colab": {
          "base_uri": "https://localhost:8080/",
          "height": 49
        },
        "id": "axcdgsAr4FY2",
        "outputId": "1b9b2933-001e-4ec9-d0e2-e3f17344d795"
      },
      "source": [
        "dataset[dataset['Latitude']>38]\n"
      ],
      "execution_count": 48,
      "outputs": [
        {
          "output_type": "execute_result",
          "data": {
            "text/plain": [
              "Empty DataFrame\n",
              "Columns: [Latitude, Longitude, Apparel, Books, Electronics, Grocery]\n",
              "Index: []"
            ],
            "text/html": [
              "\n",
              "  <div id=\"df-74112912-50ae-4708-b0c4-ce891cda373e\">\n",
              "    <div class=\"colab-df-container\">\n",
              "      <div>\n",
              "<style scoped>\n",
              "    .dataframe tbody tr th:only-of-type {\n",
              "        vertical-align: middle;\n",
              "    }\n",
              "\n",
              "    .dataframe tbody tr th {\n",
              "        vertical-align: top;\n",
              "    }\n",
              "\n",
              "    .dataframe thead th {\n",
              "        text-align: right;\n",
              "    }\n",
              "</style>\n",
              "<table border=\"1\" class=\"dataframe\">\n",
              "  <thead>\n",
              "    <tr style=\"text-align: right;\">\n",
              "      <th></th>\n",
              "      <th>Latitude</th>\n",
              "      <th>Longitude</th>\n",
              "      <th>Apparel</th>\n",
              "      <th>Books</th>\n",
              "      <th>Electronics</th>\n",
              "      <th>Grocery</th>\n",
              "    </tr>\n",
              "  </thead>\n",
              "  <tbody>\n",
              "  </tbody>\n",
              "</table>\n",
              "</div>\n",
              "      <button class=\"colab-df-convert\" onclick=\"convertToInteractive('df-74112912-50ae-4708-b0c4-ce891cda373e')\"\n",
              "              title=\"Convert this dataframe to an interactive table.\"\n",
              "              style=\"display:none;\">\n",
              "        \n",
              "  <svg xmlns=\"http://www.w3.org/2000/svg\" height=\"24px\"viewBox=\"0 0 24 24\"\n",
              "       width=\"24px\">\n",
              "    <path d=\"M0 0h24v24H0V0z\" fill=\"none\"/>\n",
              "    <path d=\"M18.56 5.44l.94 2.06.94-2.06 2.06-.94-2.06-.94-.94-2.06-.94 2.06-2.06.94zm-11 1L8.5 8.5l.94-2.06 2.06-.94-2.06-.94L8.5 2.5l-.94 2.06-2.06.94zm10 10l.94 2.06.94-2.06 2.06-.94-2.06-.94-.94-2.06-.94 2.06-2.06.94z\"/><path d=\"M17.41 7.96l-1.37-1.37c-.4-.4-.92-.59-1.43-.59-.52 0-1.04.2-1.43.59L10.3 9.45l-7.72 7.72c-.78.78-.78 2.05 0 2.83L4 21.41c.39.39.9.59 1.41.59.51 0 1.02-.2 1.41-.59l7.78-7.78 2.81-2.81c.8-.78.8-2.07 0-2.86zM5.41 20L4 18.59l7.72-7.72 1.47 1.35L5.41 20z\"/>\n",
              "  </svg>\n",
              "      </button>\n",
              "      \n",
              "  <style>\n",
              "    .colab-df-container {\n",
              "      display:flex;\n",
              "      flex-wrap:wrap;\n",
              "      gap: 12px;\n",
              "    }\n",
              "\n",
              "    .colab-df-convert {\n",
              "      background-color: #E8F0FE;\n",
              "      border: none;\n",
              "      border-radius: 50%;\n",
              "      cursor: pointer;\n",
              "      display: none;\n",
              "      fill: #1967D2;\n",
              "      height: 32px;\n",
              "      padding: 0 0 0 0;\n",
              "      width: 32px;\n",
              "    }\n",
              "\n",
              "    .colab-df-convert:hover {\n",
              "      background-color: #E2EBFA;\n",
              "      box-shadow: 0px 1px 2px rgba(60, 64, 67, 0.3), 0px 1px 3px 1px rgba(60, 64, 67, 0.15);\n",
              "      fill: #174EA6;\n",
              "    }\n",
              "\n",
              "    [theme=dark] .colab-df-convert {\n",
              "      background-color: #3B4455;\n",
              "      fill: #D2E3FC;\n",
              "    }\n",
              "\n",
              "    [theme=dark] .colab-df-convert:hover {\n",
              "      background-color: #434B5C;\n",
              "      box-shadow: 0px 1px 3px 1px rgba(0, 0, 0, 0.15);\n",
              "      filter: drop-shadow(0px 1px 2px rgba(0, 0, 0, 0.3));\n",
              "      fill: #FFFFFF;\n",
              "    }\n",
              "  </style>\n",
              "\n",
              "      <script>\n",
              "        const buttonEl =\n",
              "          document.querySelector('#df-74112912-50ae-4708-b0c4-ce891cda373e button.colab-df-convert');\n",
              "        buttonEl.style.display =\n",
              "          google.colab.kernel.accessAllowed ? 'block' : 'none';\n",
              "\n",
              "        async function convertToInteractive(key) {\n",
              "          const element = document.querySelector('#df-74112912-50ae-4708-b0c4-ce891cda373e');\n",
              "          const dataTable =\n",
              "            await google.colab.kernel.invokeFunction('convertToInteractive',\n",
              "                                                     [key], {});\n",
              "          if (!dataTable) return;\n",
              "\n",
              "          const docLinkHtml = 'Like what you see? Visit the ' +\n",
              "            '<a target=\"_blank\" href=https://colab.research.google.com/notebooks/data_table.ipynb>data table notebook</a>'\n",
              "            + ' to learn more about interactive tables.';\n",
              "          element.innerHTML = '';\n",
              "          dataTable['output_type'] = 'display_data';\n",
              "          await google.colab.output.renderOutput(dataTable, element);\n",
              "          const docLink = document.createElement('div');\n",
              "          docLink.innerHTML = docLinkHtml;\n",
              "          element.appendChild(docLink);\n",
              "        }\n",
              "      </script>\n",
              "    </div>\n",
              "  </div>\n",
              "  "
            ]
          },
          "metadata": {},
          "execution_count": 48
        }
      ]
    },
    {
      "cell_type": "code",
      "metadata": {
        "colab": {
          "base_uri": "https://localhost:8080/",
          "height": 49
        },
        "id": "Ucnn3xjG9XHS",
        "outputId": "0cbd08f4-e585-438e-e594-c22982875978"
      },
      "source": [
        "dataset[dataset['Longitude']<68]"
      ],
      "execution_count": 49,
      "outputs": [
        {
          "output_type": "execute_result",
          "data": {
            "text/plain": [
              "Empty DataFrame\n",
              "Columns: [Latitude, Longitude, Apparel, Books, Electronics, Grocery]\n",
              "Index: []"
            ],
            "text/html": [
              "\n",
              "  <div id=\"df-3b34fe1f-46f5-4926-b10d-12349622bce4\">\n",
              "    <div class=\"colab-df-container\">\n",
              "      <div>\n",
              "<style scoped>\n",
              "    .dataframe tbody tr th:only-of-type {\n",
              "        vertical-align: middle;\n",
              "    }\n",
              "\n",
              "    .dataframe tbody tr th {\n",
              "        vertical-align: top;\n",
              "    }\n",
              "\n",
              "    .dataframe thead th {\n",
              "        text-align: right;\n",
              "    }\n",
              "</style>\n",
              "<table border=\"1\" class=\"dataframe\">\n",
              "  <thead>\n",
              "    <tr style=\"text-align: right;\">\n",
              "      <th></th>\n",
              "      <th>Latitude</th>\n",
              "      <th>Longitude</th>\n",
              "      <th>Apparel</th>\n",
              "      <th>Books</th>\n",
              "      <th>Electronics</th>\n",
              "      <th>Grocery</th>\n",
              "    </tr>\n",
              "  </thead>\n",
              "  <tbody>\n",
              "  </tbody>\n",
              "</table>\n",
              "</div>\n",
              "      <button class=\"colab-df-convert\" onclick=\"convertToInteractive('df-3b34fe1f-46f5-4926-b10d-12349622bce4')\"\n",
              "              title=\"Convert this dataframe to an interactive table.\"\n",
              "              style=\"display:none;\">\n",
              "        \n",
              "  <svg xmlns=\"http://www.w3.org/2000/svg\" height=\"24px\"viewBox=\"0 0 24 24\"\n",
              "       width=\"24px\">\n",
              "    <path d=\"M0 0h24v24H0V0z\" fill=\"none\"/>\n",
              "    <path d=\"M18.56 5.44l.94 2.06.94-2.06 2.06-.94-2.06-.94-.94-2.06-.94 2.06-2.06.94zm-11 1L8.5 8.5l.94-2.06 2.06-.94-2.06-.94L8.5 2.5l-.94 2.06-2.06.94zm10 10l.94 2.06.94-2.06 2.06-.94-2.06-.94-.94-2.06-.94 2.06-2.06.94z\"/><path d=\"M17.41 7.96l-1.37-1.37c-.4-.4-.92-.59-1.43-.59-.52 0-1.04.2-1.43.59L10.3 9.45l-7.72 7.72c-.78.78-.78 2.05 0 2.83L4 21.41c.39.39.9.59 1.41.59.51 0 1.02-.2 1.41-.59l7.78-7.78 2.81-2.81c.8-.78.8-2.07 0-2.86zM5.41 20L4 18.59l7.72-7.72 1.47 1.35L5.41 20z\"/>\n",
              "  </svg>\n",
              "      </button>\n",
              "      \n",
              "  <style>\n",
              "    .colab-df-container {\n",
              "      display:flex;\n",
              "      flex-wrap:wrap;\n",
              "      gap: 12px;\n",
              "    }\n",
              "\n",
              "    .colab-df-convert {\n",
              "      background-color: #E8F0FE;\n",
              "      border: none;\n",
              "      border-radius: 50%;\n",
              "      cursor: pointer;\n",
              "      display: none;\n",
              "      fill: #1967D2;\n",
              "      height: 32px;\n",
              "      padding: 0 0 0 0;\n",
              "      width: 32px;\n",
              "    }\n",
              "\n",
              "    .colab-df-convert:hover {\n",
              "      background-color: #E2EBFA;\n",
              "      box-shadow: 0px 1px 2px rgba(60, 64, 67, 0.3), 0px 1px 3px 1px rgba(60, 64, 67, 0.15);\n",
              "      fill: #174EA6;\n",
              "    }\n",
              "\n",
              "    [theme=dark] .colab-df-convert {\n",
              "      background-color: #3B4455;\n",
              "      fill: #D2E3FC;\n",
              "    }\n",
              "\n",
              "    [theme=dark] .colab-df-convert:hover {\n",
              "      background-color: #434B5C;\n",
              "      box-shadow: 0px 1px 3px 1px rgba(0, 0, 0, 0.15);\n",
              "      filter: drop-shadow(0px 1px 2px rgba(0, 0, 0, 0.3));\n",
              "      fill: #FFFFFF;\n",
              "    }\n",
              "  </style>\n",
              "\n",
              "      <script>\n",
              "        const buttonEl =\n",
              "          document.querySelector('#df-3b34fe1f-46f5-4926-b10d-12349622bce4 button.colab-df-convert');\n",
              "        buttonEl.style.display =\n",
              "          google.colab.kernel.accessAllowed ? 'block' : 'none';\n",
              "\n",
              "        async function convertToInteractive(key) {\n",
              "          const element = document.querySelector('#df-3b34fe1f-46f5-4926-b10d-12349622bce4');\n",
              "          const dataTable =\n",
              "            await google.colab.kernel.invokeFunction('convertToInteractive',\n",
              "                                                     [key], {});\n",
              "          if (!dataTable) return;\n",
              "\n",
              "          const docLinkHtml = 'Like what you see? Visit the ' +\n",
              "            '<a target=\"_blank\" href=https://colab.research.google.com/notebooks/data_table.ipynb>data table notebook</a>'\n",
              "            + ' to learn more about interactive tables.';\n",
              "          element.innerHTML = '';\n",
              "          dataTable['output_type'] = 'display_data';\n",
              "          await google.colab.output.renderOutput(dataTable, element);\n",
              "          const docLink = document.createElement('div');\n",
              "          docLink.innerHTML = docLinkHtml;\n",
              "          element.appendChild(docLink);\n",
              "        }\n",
              "      </script>\n",
              "    </div>\n",
              "  </div>\n",
              "  "
            ]
          },
          "metadata": {},
          "execution_count": 49
        }
      ]
    },
    {
      "cell_type": "code",
      "metadata": {
        "colab": {
          "base_uri": "https://localhost:8080/",
          "height": 424
        },
        "id": "rpcgSgueKdzo",
        "outputId": "7f5159dc-2f74-4744-e5da-5044bc474f22"
      },
      "source": [
        "dataset"
      ],
      "execution_count": 50,
      "outputs": [
        {
          "output_type": "execute_result",
          "data": {
            "text/plain": [
              "     Latitude  Longitude  Apparel  Books  Electronics  Grocery\n",
              "0   30.453290  76.394585     6.83   4.34         0.77    14.58\n",
              "1   26.301717  80.133402    15.48   9.89         0.93     1.38\n",
              "2   10.482971  76.384688     1.21   8.26         0.57    12.96\n",
              "3   26.301717  80.130000     3.04   9.54         0.53    15.58\n",
              "4   31.022162  76.724332     6.74   0.21        14.40     1.14\n",
              "..        ...        ...      ...    ...          ...      ...\n",
              "74  13.020800  80.224000     3.22   8.30         0.40    17.63\n",
              "75  10.078730  78.670417     2.70   0.40         9.43    11.25\n",
              "76   8.469167  76.946111     0.66   7.51         3.08    10.02\n",
              "77  17.712100  83.312100     0.48  18.61         7.60     3.54\n",
              "78  19.144100  83.485700     0.60  19.40         9.08     3.60\n",
              "\n",
              "[79 rows x 6 columns]"
            ],
            "text/html": [
              "\n",
              "  <div id=\"df-ac4492d6-7dd4-4fb5-b869-c89998a2945d\">\n",
              "    <div class=\"colab-df-container\">\n",
              "      <div>\n",
              "<style scoped>\n",
              "    .dataframe tbody tr th:only-of-type {\n",
              "        vertical-align: middle;\n",
              "    }\n",
              "\n",
              "    .dataframe tbody tr th {\n",
              "        vertical-align: top;\n",
              "    }\n",
              "\n",
              "    .dataframe thead th {\n",
              "        text-align: right;\n",
              "    }\n",
              "</style>\n",
              "<table border=\"1\" class=\"dataframe\">\n",
              "  <thead>\n",
              "    <tr style=\"text-align: right;\">\n",
              "      <th></th>\n",
              "      <th>Latitude</th>\n",
              "      <th>Longitude</th>\n",
              "      <th>Apparel</th>\n",
              "      <th>Books</th>\n",
              "      <th>Electronics</th>\n",
              "      <th>Grocery</th>\n",
              "    </tr>\n",
              "  </thead>\n",
              "  <tbody>\n",
              "    <tr>\n",
              "      <th>0</th>\n",
              "      <td>30.453290</td>\n",
              "      <td>76.394585</td>\n",
              "      <td>6.83</td>\n",
              "      <td>4.34</td>\n",
              "      <td>0.77</td>\n",
              "      <td>14.58</td>\n",
              "    </tr>\n",
              "    <tr>\n",
              "      <th>1</th>\n",
              "      <td>26.301717</td>\n",
              "      <td>80.133402</td>\n",
              "      <td>15.48</td>\n",
              "      <td>9.89</td>\n",
              "      <td>0.93</td>\n",
              "      <td>1.38</td>\n",
              "    </tr>\n",
              "    <tr>\n",
              "      <th>2</th>\n",
              "      <td>10.482971</td>\n",
              "      <td>76.384688</td>\n",
              "      <td>1.21</td>\n",
              "      <td>8.26</td>\n",
              "      <td>0.57</td>\n",
              "      <td>12.96</td>\n",
              "    </tr>\n",
              "    <tr>\n",
              "      <th>3</th>\n",
              "      <td>26.301717</td>\n",
              "      <td>80.130000</td>\n",
              "      <td>3.04</td>\n",
              "      <td>9.54</td>\n",
              "      <td>0.53</td>\n",
              "      <td>15.58</td>\n",
              "    </tr>\n",
              "    <tr>\n",
              "      <th>4</th>\n",
              "      <td>31.022162</td>\n",
              "      <td>76.724332</td>\n",
              "      <td>6.74</td>\n",
              "      <td>0.21</td>\n",
              "      <td>14.40</td>\n",
              "      <td>1.14</td>\n",
              "    </tr>\n",
              "    <tr>\n",
              "      <th>...</th>\n",
              "      <td>...</td>\n",
              "      <td>...</td>\n",
              "      <td>...</td>\n",
              "      <td>...</td>\n",
              "      <td>...</td>\n",
              "      <td>...</td>\n",
              "    </tr>\n",
              "    <tr>\n",
              "      <th>74</th>\n",
              "      <td>13.020800</td>\n",
              "      <td>80.224000</td>\n",
              "      <td>3.22</td>\n",
              "      <td>8.30</td>\n",
              "      <td>0.40</td>\n",
              "      <td>17.63</td>\n",
              "    </tr>\n",
              "    <tr>\n",
              "      <th>75</th>\n",
              "      <td>10.078730</td>\n",
              "      <td>78.670417</td>\n",
              "      <td>2.70</td>\n",
              "      <td>0.40</td>\n",
              "      <td>9.43</td>\n",
              "      <td>11.25</td>\n",
              "    </tr>\n",
              "    <tr>\n",
              "      <th>76</th>\n",
              "      <td>8.469167</td>\n",
              "      <td>76.946111</td>\n",
              "      <td>0.66</td>\n",
              "      <td>7.51</td>\n",
              "      <td>3.08</td>\n",
              "      <td>10.02</td>\n",
              "    </tr>\n",
              "    <tr>\n",
              "      <th>77</th>\n",
              "      <td>17.712100</td>\n",
              "      <td>83.312100</td>\n",
              "      <td>0.48</td>\n",
              "      <td>18.61</td>\n",
              "      <td>7.60</td>\n",
              "      <td>3.54</td>\n",
              "    </tr>\n",
              "    <tr>\n",
              "      <th>78</th>\n",
              "      <td>19.144100</td>\n",
              "      <td>83.485700</td>\n",
              "      <td>0.60</td>\n",
              "      <td>19.40</td>\n",
              "      <td>9.08</td>\n",
              "      <td>3.60</td>\n",
              "    </tr>\n",
              "  </tbody>\n",
              "</table>\n",
              "<p>79 rows × 6 columns</p>\n",
              "</div>\n",
              "      <button class=\"colab-df-convert\" onclick=\"convertToInteractive('df-ac4492d6-7dd4-4fb5-b869-c89998a2945d')\"\n",
              "              title=\"Convert this dataframe to an interactive table.\"\n",
              "              style=\"display:none;\">\n",
              "        \n",
              "  <svg xmlns=\"http://www.w3.org/2000/svg\" height=\"24px\"viewBox=\"0 0 24 24\"\n",
              "       width=\"24px\">\n",
              "    <path d=\"M0 0h24v24H0V0z\" fill=\"none\"/>\n",
              "    <path d=\"M18.56 5.44l.94 2.06.94-2.06 2.06-.94-2.06-.94-.94-2.06-.94 2.06-2.06.94zm-11 1L8.5 8.5l.94-2.06 2.06-.94-2.06-.94L8.5 2.5l-.94 2.06-2.06.94zm10 10l.94 2.06.94-2.06 2.06-.94-2.06-.94-.94-2.06-.94 2.06-2.06.94z\"/><path d=\"M17.41 7.96l-1.37-1.37c-.4-.4-.92-.59-1.43-.59-.52 0-1.04.2-1.43.59L10.3 9.45l-7.72 7.72c-.78.78-.78 2.05 0 2.83L4 21.41c.39.39.9.59 1.41.59.51 0 1.02-.2 1.41-.59l7.78-7.78 2.81-2.81c.8-.78.8-2.07 0-2.86zM5.41 20L4 18.59l7.72-7.72 1.47 1.35L5.41 20z\"/>\n",
              "  </svg>\n",
              "      </button>\n",
              "      \n",
              "  <style>\n",
              "    .colab-df-container {\n",
              "      display:flex;\n",
              "      flex-wrap:wrap;\n",
              "      gap: 12px;\n",
              "    }\n",
              "\n",
              "    .colab-df-convert {\n",
              "      background-color: #E8F0FE;\n",
              "      border: none;\n",
              "      border-radius: 50%;\n",
              "      cursor: pointer;\n",
              "      display: none;\n",
              "      fill: #1967D2;\n",
              "      height: 32px;\n",
              "      padding: 0 0 0 0;\n",
              "      width: 32px;\n",
              "    }\n",
              "\n",
              "    .colab-df-convert:hover {\n",
              "      background-color: #E2EBFA;\n",
              "      box-shadow: 0px 1px 2px rgba(60, 64, 67, 0.3), 0px 1px 3px 1px rgba(60, 64, 67, 0.15);\n",
              "      fill: #174EA6;\n",
              "    }\n",
              "\n",
              "    [theme=dark] .colab-df-convert {\n",
              "      background-color: #3B4455;\n",
              "      fill: #D2E3FC;\n",
              "    }\n",
              "\n",
              "    [theme=dark] .colab-df-convert:hover {\n",
              "      background-color: #434B5C;\n",
              "      box-shadow: 0px 1px 3px 1px rgba(0, 0, 0, 0.15);\n",
              "      filter: drop-shadow(0px 1px 2px rgba(0, 0, 0, 0.3));\n",
              "      fill: #FFFFFF;\n",
              "    }\n",
              "  </style>\n",
              "\n",
              "      <script>\n",
              "        const buttonEl =\n",
              "          document.querySelector('#df-ac4492d6-7dd4-4fb5-b869-c89998a2945d button.colab-df-convert');\n",
              "        buttonEl.style.display =\n",
              "          google.colab.kernel.accessAllowed ? 'block' : 'none';\n",
              "\n",
              "        async function convertToInteractive(key) {\n",
              "          const element = document.querySelector('#df-ac4492d6-7dd4-4fb5-b869-c89998a2945d');\n",
              "          const dataTable =\n",
              "            await google.colab.kernel.invokeFunction('convertToInteractive',\n",
              "                                                     [key], {});\n",
              "          if (!dataTable) return;\n",
              "\n",
              "          const docLinkHtml = 'Like what you see? Visit the ' +\n",
              "            '<a target=\"_blank\" href=https://colab.research.google.com/notebooks/data_table.ipynb>data table notebook</a>'\n",
              "            + ' to learn more about interactive tables.';\n",
              "          element.innerHTML = '';\n",
              "          dataTable['output_type'] = 'display_data';\n",
              "          await google.colab.output.renderOutput(dataTable, element);\n",
              "          const docLink = document.createElement('div');\n",
              "          docLink.innerHTML = docLinkHtml;\n",
              "          element.appendChild(docLink);\n",
              "        }\n",
              "      </script>\n",
              "    </div>\n",
              "  </div>\n",
              "  "
            ]
          },
          "metadata": {},
          "execution_count": 50
        }
      ]
    },
    {
      "cell_type": "code",
      "metadata": {
        "id": "LFl8UGi4J0Po"
      },
      "source": [
        "dataset.drop(dataset[dataset['Longitude']==26.9658].index,inplace=True)\n",
        "dataset.drop(dataset[dataset['Latitude']==41.205].index,inplace=True,axis=0)"
      ],
      "execution_count": 51,
      "outputs": []
    },
    {
      "cell_type": "code",
      "metadata": {
        "colab": {
          "base_uri": "https://localhost:8080/"
        },
        "id": "ztQ8UrIA-vsi",
        "outputId": "3ec30768-d415-40b8-99c7-bab48094d7d8"
      },
      "source": [
        "!pip install geopandas"
      ],
      "execution_count": 52,
      "outputs": [
        {
          "output_type": "stream",
          "name": "stdout",
          "text": [
            "Looking in indexes: https://pypi.org/simple, https://us-python.pkg.dev/colab-wheels/public/simple/\n",
            "Requirement already satisfied: geopandas in /usr/local/lib/python3.7/dist-packages (0.10.2)\n",
            "Requirement already satisfied: shapely>=1.6 in /usr/local/lib/python3.7/dist-packages (from geopandas) (1.8.2)\n",
            "Requirement already satisfied: pandas>=0.25.0 in /usr/local/lib/python3.7/dist-packages (from geopandas) (1.3.5)\n",
            "Requirement already satisfied: fiona>=1.8 in /usr/local/lib/python3.7/dist-packages (from geopandas) (1.8.21)\n",
            "Requirement already satisfied: pyproj>=2.2.0 in /usr/local/lib/python3.7/dist-packages (from geopandas) (3.2.1)\n",
            "Requirement already satisfied: certifi in /usr/local/lib/python3.7/dist-packages (from fiona>=1.8->geopandas) (2022.6.15)\n",
            "Requirement already satisfied: six>=1.7 in /usr/local/lib/python3.7/dist-packages (from fiona>=1.8->geopandas) (1.15.0)\n",
            "Requirement already satisfied: setuptools in /usr/local/lib/python3.7/dist-packages (from fiona>=1.8->geopandas) (57.4.0)\n",
            "Requirement already satisfied: click>=4.0 in /usr/local/lib/python3.7/dist-packages (from fiona>=1.8->geopandas) (7.1.2)\n",
            "Requirement already satisfied: cligj>=0.5 in /usr/local/lib/python3.7/dist-packages (from fiona>=1.8->geopandas) (0.7.2)\n",
            "Requirement already satisfied: click-plugins>=1.0 in /usr/local/lib/python3.7/dist-packages (from fiona>=1.8->geopandas) (1.1.1)\n",
            "Requirement already satisfied: munch in /usr/local/lib/python3.7/dist-packages (from fiona>=1.8->geopandas) (2.5.0)\n",
            "Requirement already satisfied: attrs>=17 in /usr/local/lib/python3.7/dist-packages (from fiona>=1.8->geopandas) (21.4.0)\n",
            "Requirement already satisfied: python-dateutil>=2.7.3 in /usr/local/lib/python3.7/dist-packages (from pandas>=0.25.0->geopandas) (2.8.2)\n",
            "Requirement already satisfied: numpy>=1.17.3 in /usr/local/lib/python3.7/dist-packages (from pandas>=0.25.0->geopandas) (1.21.6)\n",
            "Requirement already satisfied: pytz>=2017.3 in /usr/local/lib/python3.7/dist-packages (from pandas>=0.25.0->geopandas) (2022.1)\n"
          ]
        }
      ]
    },
    {
      "cell_type": "code",
      "metadata": {
        "colab": {
          "base_uri": "https://localhost:8080/",
          "height": 594
        },
        "id": "PjFt5nkb9YXT",
        "outputId": "e391ddeb-147f-4239-f7f5-ee0f19c63c6e"
      },
      "source": [
        "from shapely.geometry import Point\n",
        "import geopandas as gpd\n",
        "from geopandas import GeoDataFrame\n",
        "\n",
        "geometry = [Point(xy) for xy in zip(dataset['Longitude'], dataset['Latitude'])]\n",
        "gdf = GeoDataFrame(dataset, geometry=geometry)   \n",
        "#this is a simple map that goes with geopandas\n",
        "# world = gpd.read_file(gpd.datasets.get_path('naturalearth_lowres'))\n",
        "world = gpd.read_file('/content/Indian_states.shp')\n",
        "gdf.plot(ax=world.plot(figsize=(20, 10),color='lightgrey'), marker='o', color='red', markersize=15);\n",
        "# ax.set_title('Distribution of Customers')"
      ],
      "execution_count": 53,
      "outputs": [
        {
          "output_type": "display_data",
          "data": {
            "text/plain": [
              "<Figure size 1440x720 with 1 Axes>"
            ],
            "image/png": "[encoded data removed]"
          },
          "metadata": {}
        }
      ]
    },
    {
      "cell_type": "code",
      "metadata": {
        "colab": {
          "base_uri": "https://localhost:8080/",
          "height": 424
        },
        "id": "Nc9EI68wuChy",
        "outputId": "93b0bc17-08e8-42d3-bd93-310e7b26ebab"
      },
      "source": [
        "gdf"
      ],
      "execution_count": 54,
      "outputs": [
        {
          "output_type": "execute_result",
          "data": {
            "text/plain": [
              "     Latitude  Longitude  Apparel  Books  Electronics  Grocery  \\\n",
              "0   30.453290  76.394585     6.83   4.34         0.77    14.58   \n",
              "1   26.301717  80.133402    15.48   9.89         0.93     1.38   \n",
              "2   10.482971  76.384688     1.21   8.26         0.57    12.96   \n",
              "3   26.301717  80.130000     3.04   9.54         0.53    15.58   \n",
              "4   31.022162  76.724332     6.74   0.21        14.40     1.14   \n",
              "..        ...        ...      ...    ...          ...      ...   \n",
              "74  13.020800  80.224000     3.22   8.30         0.40    17.63   \n",
              "75  10.078730  78.670417     2.70   0.40         9.43    11.25   \n",
              "76   8.469167  76.946111     0.66   7.51         3.08    10.02   \n",
              "77  17.712100  83.312100     0.48  18.61         7.60     3.54   \n",
              "78  19.144100  83.485700     0.60  19.40         9.08     3.60   \n",
              "\n",
              "                     geometry  \n",
              "0   POINT (76.39459 30.45329)  \n",
              "1   POINT (80.13340 26.30172)  \n",
              "2   POINT (76.38469 10.48297)  \n",
              "3   POINT (80.13000 26.30172)  \n",
              "4   POINT (76.72433 31.02216)  \n",
              "..                        ...  \n",
              "74  POINT (80.22400 13.02080)  \n",
              "75  POINT (78.67042 10.07873)  \n",
              "76   POINT (76.94611 8.46917)  \n",
              "77  POINT (83.31210 17.71210)  \n",
              "78  POINT (83.48570 19.14410)  \n",
              "\n",
              "[79 rows x 7 columns]"
            ],
            "text/html": [
              "\n",
              "  <div id=\"df-4109fc93-0f80-445d-9520-d628affbf3dc\">\n",
              "    <div class=\"colab-df-container\">\n",
              "      <div>\n",
              "<style scoped>\n",
              "    .dataframe tbody tr th:only-of-type {\n",
              "        vertical-align: middle;\n",
              "    }\n",
              "\n",
              "    .dataframe tbody tr th {\n",
              "        vertical-align: top;\n",
              "    }\n",
              "\n",
              "    .dataframe thead th {\n",
              "        text-align: right;\n",
              "    }\n",
              "</style>\n",
              "<table border=\"1\" class=\"dataframe\">\n",
              "  <thead>\n",
              "    <tr style=\"text-align: right;\">\n",
              "      <th></th>\n",
              "      <th>Latitude</th>\n",
              "      <th>Longitude</th>\n",
              "      <th>Apparel</th>\n",
              "      <th>Books</th>\n",
              "      <th>Electronics</th>\n",
              "      <th>Grocery</th>\n",
              "      <th>geometry</th>\n",
              "    </tr>\n",
              "  </thead>\n",
              "  <tbody>\n",
              "    <tr>\n",
              "      <th>0</th>\n",
              "      <td>30.453290</td>\n",
              "      <td>76.394585</td>\n",
              "      <td>6.83</td>\n",
              "      <td>4.34</td>\n",
              "      <td>0.77</td>\n",
              "      <td>14.58</td>\n",
              "      <td>POINT (76.39459 30.45329)</td>\n",
              "    </tr>\n",
              "    <tr>\n",
              "      <th>1</th>\n",
              "      <td>26.301717</td>\n",
              "      <td>80.133402</td>\n",
              "      <td>15.48</td>\n",
              "      <td>9.89</td>\n",
              "      <td>0.93</td>\n",
              "      <td>1.38</td>\n",
              "      <td>POINT (80.13340 26.30172)</td>\n",
              "    </tr>\n",
              "    <tr>\n",
              "      <th>2</th>\n",
              "      <td>10.482971</td>\n",
              "      <td>76.384688</td>\n",
              "      <td>1.21</td>\n",
              "      <td>8.26</td>\n",
              "      <td>0.57</td>\n",
              "      <td>12.96</td>\n",
              "      <td>POINT (76.38469 10.48297)</td>\n",
              "    </tr>\n",
              "    <tr>\n",
              "      <th>3</th>\n",
              "      <td>26.301717</td>\n",
              "      <td>80.130000</td>\n",
              "      <td>3.04</td>\n",
              "      <td>9.54</td>\n",
              "      <td>0.53</td>\n",
              "      <td>15.58</td>\n",
              "      <td>POINT (80.13000 26.30172)</td>\n",
              "    </tr>\n",
              "    <tr>\n",
              "      <th>4</th>\n",
              "      <td>31.022162</td>\n",
              "      <td>76.724332</td>\n",
              "      <td>6.74</td>\n",
              "      <td>0.21</td>\n",
              "      <td>14.40</td>\n",
              "      <td>1.14</td>\n",
              "      <td>POINT (76.72433 31.02216)</td>\n",
              "    </tr>\n",
              "    <tr>\n",
              "      <th>...</th>\n",
              "      <td>...</td>\n",
              "      <td>...</td>\n",
              "      <td>...</td>\n",
              "      <td>...</td>\n",
              "      <td>...</td>\n",
              "      <td>...</td>\n",
              "      <td>...</td>\n",
              "    </tr>\n",
              "    <tr>\n",
              "      <th>74</th>\n",
              "      <td>13.020800</td>\n",
              "      <td>80.224000</td>\n",
              "      <td>3.22</td>\n",
              "      <td>8.30</td>\n",
              "      <td>0.40</td>\n",
              "      <td>17.63</td>\n",
              "      <td>POINT (80.22400 13.02080)</td>\n",
              "    </tr>\n",
              "    <tr>\n",
              "      <th>75</th>\n",
              "      <td>10.078730</td>\n",
              "      <td>78.670417</td>\n",
              "      <td>2.70</td>\n",
              "      <td>0.40</td>\n",
              "      <td>9.43</td>\n",
              "      <td>11.25</td>\n",
              "      <td>POINT (78.67042 10.07873)</td>\n",
              "    </tr>\n",
              "    <tr>\n",
              "      <th>76</th>\n",
              "      <td>8.469167</td>\n",
              "      <td>76.946111</td>\n",
              "      <td>0.66</td>\n",
              "      <td>7.51</td>\n",
              "      <td>3.08</td>\n",
              "      <td>10.02</td>\n",
              "      <td>POINT (76.94611 8.46917)</td>\n",
              "    </tr>\n",
              "    <tr>\n",
              "      <th>77</th>\n",
              "      <td>17.712100</td>\n",
              "      <td>83.312100</td>\n",
              "      <td>0.48</td>\n",
              "      <td>18.61</td>\n",
              "      <td>7.60</td>\n",
              "      <td>3.54</td>\n",
              "      <td>POINT (83.31210 17.71210)</td>\n",
              "    </tr>\n",
              "    <tr>\n",
              "      <th>78</th>\n",
              "      <td>19.144100</td>\n",
              "      <td>83.485700</td>\n",
              "      <td>0.60</td>\n",
              "      <td>19.40</td>\n",
              "      <td>9.08</td>\n",
              "      <td>3.60</td>\n",
              "      <td>POINT (83.48570 19.14410)</td>\n",
              "    </tr>\n",
              "  </tbody>\n",
              "</table>\n",
              "<p>79 rows × 7 columns</p>\n",
              "</div>\n",
              "      <button class=\"colab-df-convert\" onclick=\"convertToInteractive('df-4109fc93-0f80-445d-9520-d628affbf3dc')\"\n",
              "              title=\"Convert this dataframe to an interactive table.\"\n",
              "              style=\"display:none;\">\n",
              "        \n",
              "  <svg xmlns=\"http://www.w3.org/2000/svg\" height=\"24px\"viewBox=\"0 0 24 24\"\n",
              "       width=\"24px\">\n",
              "    <path d=\"M0 0h24v24H0V0z\" fill=\"none\"/>\n",
              "    <path d=\"M18.56 5.44l.94 2.06.94-2.06 2.06-.94-2.06-.94-.94-2.06-.94 2.06-2.06.94zm-11 1L8.5 8.5l.94-2.06 2.06-.94-2.06-.94L8.5 2.5l-.94 2.06-2.06.94zm10 10l.94 2.06.94-2.06 2.06-.94-2.06-.94-.94-2.06-.94 2.06-2.06.94z\"/><path d=\"M17.41 7.96l-1.37-1.37c-.4-.4-.92-.59-1.43-.59-.52 0-1.04.2-1.43.59L10.3 9.45l-7.72 7.72c-.78.78-.78 2.05 0 2.83L4 21.41c.39.39.9.59 1.41.59.51 0 1.02-.2 1.41-.59l7.78-7.78 2.81-2.81c.8-.78.8-2.07 0-2.86zM5.41 20L4 18.59l7.72-7.72 1.47 1.35L5.41 20z\"/>\n",
              "  </svg>\n",
              "      </button>\n",
              "      \n",
              "  <style>\n",
              "    .colab-df-container {\n",
              "      display:flex;\n",
              "      flex-wrap:wrap;\n",
              "      gap: 12px;\n",
              "    }\n",
              "\n",
              "    .colab-df-convert {\n",
              "      background-color: #E8F0FE;\n",
              "      border: none;\n",
              "      border-radius: 50%;\n",
              "      cursor: pointer;\n",
              "      display: none;\n",
              "      fill: #1967D2;\n",
              "      height: 32px;\n",
              "      padding: 0 0 0 0;\n",
              "      width: 32px;\n",
              "    }\n",
              "\n",
              "    .colab-df-convert:hover {\n",
              "      background-color: #E2EBFA;\n",
              "      box-shadow: 0px 1px 2px rgba(60, 64, 67, 0.3), 0px 1px 3px 1px rgba(60, 64, 67, 0.15);\n",
              "      fill: #174EA6;\n",
              "    }\n",
              "\n",
              "    [theme=dark] .colab-df-convert {\n",
              "      background-color: #3B4455;\n",
              "      fill: #D2E3FC;\n",
              "    }\n",
              "\n",
              "    [theme=dark] .colab-df-convert:hover {\n",
              "      background-color: #434B5C;\n",
              "      box-shadow: 0px 1px 3px 1px rgba(0, 0, 0, 0.15);\n",
              "      filter: drop-shadow(0px 1px 2px rgba(0, 0, 0, 0.3));\n",
              "      fill: #FFFFFF;\n",
              "    }\n",
              "  </style>\n",
              "\n",
              "      <script>\n",
              "        const buttonEl =\n",
              "          document.querySelector('#df-4109fc93-0f80-445d-9520-d628affbf3dc button.colab-df-convert');\n",
              "        buttonEl.style.display =\n",
              "          google.colab.kernel.accessAllowed ? 'block' : 'none';\n",
              "\n",
              "        async function convertToInteractive(key) {\n",
              "          const element = document.querySelector('#df-4109fc93-0f80-445d-9520-d628affbf3dc');\n",
              "          const dataTable =\n",
              "            await google.colab.kernel.invokeFunction('convertToInteractive',\n",
              "                                                     [key], {});\n",
              "          if (!dataTable) return;\n",
              "\n",
              "          const docLinkHtml = 'Like what you see? Visit the ' +\n",
              "            '<a target=\"_blank\" href=https://colab.research.google.com/notebooks/data_table.ipynb>data table notebook</a>'\n",
              "            + ' to learn more about interactive tables.';\n",
              "          element.innerHTML = '';\n",
              "          dataTable['output_type'] = 'display_data';\n",
              "          await google.colab.output.renderOutput(dataTable, element);\n",
              "          const docLink = document.createElement('div');\n",
              "          docLink.innerHTML = docLinkHtml;\n",
              "          element.appendChild(docLink);\n",
              "        }\n",
              "      </script>\n",
              "    </div>\n",
              "  </div>\n",
              "  "
            ]
          },
          "metadata": {},
          "execution_count": 54
        }
      ]
    },
    {
      "cell_type": "code",
      "metadata": {
        "id": "QpQC9XBYuF3X"
      },
      "source": [
        "#data_with_clusters"
      ],
      "execution_count": 55,
      "outputs": []
    },
    {
      "cell_type": "code",
      "metadata": {
        "colab": {
          "base_uri": "https://localhost:8080/"
        },
        "id": "Sps7D_6TECGA",
        "outputId": "6d282461-c264-483d-b5f7-6886bed24085"
      },
      "source": [
        "gpd.datasets.available"
      ],
      "execution_count": 56,
      "outputs": [
        {
          "output_type": "execute_result",
          "data": {
            "text/plain": [
              "['naturalearth_lowres', 'naturalearth_cities', 'nybb']"
            ]
          },
          "metadata": {},
          "execution_count": 56
        }
      ]
    },
    {
      "cell_type": "code",
      "metadata": {
        "id": "nJdm7LP9-r6P"
      },
      "source": [
        "from itertools import combinations \n",
        "from sklearn.cluster import KMeans\n",
        "import folium"
      ],
      "execution_count": 57,
      "outputs": []
    },
    {
      "cell_type": "code",
      "metadata": {
        "id": "EXxlmSBpXjGB"
      },
      "source": [
        "# Instantiate map\n",
        "m = folium.Map(location=dataset[['Latitude', 'Longitude']].mean(),\n",
        "               )\n",
        "                            \n",
        "# Add volume points\n",
        "for _, row in dataset.iterrows():\n",
        "    folium.Marker(location=[row['Latitude'], \n",
        "                                  row['Longitude']]).add_to(m)\n",
        "        \n",
        "# Zoom based on volume points\n",
        "m.fit_bounds(dataset[['Latitude', 'Longitude']].values.tolist())\n",
        "# Show the map\n",
        "\n",
        "# m"
      ],
      "execution_count": 58,
      "outputs": []
    },
    {
      "cell_type": "code",
      "metadata": {
        "id": "JyjOQy8-nq-2"
      },
      "source": [
        "import numpy as np\n",
        "import pandas as pd\n",
        "import statsmodels.api as sm\n",
        "import matplotlib.pyplot as plt\n",
        "import seaborn as sns\n",
        "sns.set()\n",
        "from sklearn.cluster import KMeans"
      ],
      "execution_count": 59,
      "outputs": []
    },
    {
      "cell_type": "code",
      "metadata": {
        "colab": {
          "base_uri": "https://localhost:8080/",
          "height": 272
        },
        "id": "8HoZ0u8uocOB",
        "outputId": "a708609c-1cb0-46e4-d0e0-2d808a514f53"
      },
      "source": [
        "plt.scatter(dataset['Longitude'],dataset['Latitude'])\n",
        "plt.ylim(5,40)\n",
        "plt.xlim(65,100)\n",
        "plt.show()"
      ],
      "execution_count": 81,
      "outputs": [
        {
          "output_type": "display_data",
          "data": {
            "text/plain": [
              "<Figure size 432x288 with 1 Axes>"
            ],
            "image/png": "[encoded data removed]"
          },
          "metadata": {}
        }
      ]
    },
    {
      "cell_type": "code",
      "metadata": {
        "colab": {
          "base_uri": "https://localhost:8080/",
          "height": 424
        },
        "id": "14r7EWAPocQN",
        "outputId": "580d60a2-3a47-4d62-a5d3-5fd78d33f545"
      },
      "source": [
        "x = dataset.iloc[:,0:2] # 1t for rows and second for columns\n",
        "x"
      ],
      "execution_count": 61,
      "outputs": [
        {
          "output_type": "execute_result",
          "data": {
            "text/plain": [
              "     Latitude  Longitude\n",
              "0   30.453290  76.394585\n",
              "1   26.301717  80.133402\n",
              "2   10.482971  76.384688\n",
              "3   26.301717  80.130000\n",
              "4   31.022162  76.724332\n",
              "..        ...        ...\n",
              "74  13.020800  80.224000\n",
              "75  10.078730  78.670417\n",
              "76   8.469167  76.946111\n",
              "77  17.712100  83.312100\n",
              "78  19.144100  83.485700\n",
              "\n",
              "[79 rows x 2 columns]"
            ],
            "text/html": [
              "\n",
              "  <div id=\"df-fc40a618-e603-4f30-ba59-7dacc1d36430\">\n",
              "    <div class=\"colab-df-container\">\n",
              "      <div>\n",
              "<style scoped>\n",
              "    .dataframe tbody tr th:only-of-type {\n",
              "        vertical-align: middle;\n",
              "    }\n",
              "\n",
              "    .dataframe tbody tr th {\n",
              "        vertical-align: top;\n",
              "    }\n",
              "\n",
              "    .dataframe thead th {\n",
              "        text-align: right;\n",
              "    }\n",
              "</style>\n",
              "<table border=\"1\" class=\"dataframe\">\n",
              "  <thead>\n",
              "    <tr style=\"text-align: right;\">\n",
              "      <th></th>\n",
              "      <th>Latitude</th>\n",
              "      <th>Longitude</th>\n",
              "    </tr>\n",
              "  </thead>\n",
              "  <tbody>\n",
              "    <tr>\n",
              "      <th>0</th>\n",
              "      <td>30.453290</td>\n",
              "      <td>76.394585</td>\n",
              "    </tr>\n",
              "    <tr>\n",
              "      <th>1</th>\n",
              "      <td>26.301717</td>\n",
              "      <td>80.133402</td>\n",
              "    </tr>\n",
              "    <tr>\n",
              "      <th>2</th>\n",
              "      <td>10.482971</td>\n",
              "      <td>76.384688</td>\n",
              "    </tr>\n",
              "    <tr>\n",
              "      <th>3</th>\n",
              "      <td>26.301717</td>\n",
              "      <td>80.130000</td>\n",
              "    </tr>\n",
              "    <tr>\n",
              "      <th>4</th>\n",
              "      <td>31.022162</td>\n",
              "      <td>76.724332</td>\n",
              "    </tr>\n",
              "    <tr>\n",
              "      <th>...</th>\n",
              "      <td>...</td>\n",
              "      <td>...</td>\n",
              "    </tr>\n",
              "    <tr>\n",
              "      <th>74</th>\n",
              "      <td>13.020800</td>\n",
              "      <td>80.224000</td>\n",
              "    </tr>\n",
              "    <tr>\n",
              "      <th>75</th>\n",
              "      <td>10.078730</td>\n",
              "      <td>78.670417</td>\n",
              "    </tr>\n",
              "    <tr>\n",
              "      <th>76</th>\n",
              "      <td>8.469167</td>\n",
              "      <td>76.946111</td>\n",
              "    </tr>\n",
              "    <tr>\n",
              "      <th>77</th>\n",
              "      <td>17.712100</td>\n",
              "      <td>83.312100</td>\n",
              "    </tr>\n",
              "    <tr>\n",
              "      <th>78</th>\n",
              "      <td>19.144100</td>\n",
              "      <td>83.485700</td>\n",
              "    </tr>\n",
              "  </tbody>\n",
              "</table>\n",
              "<p>79 rows × 2 columns</p>\n",
              "</div>\n",
              "      <button class=\"colab-df-convert\" onclick=\"convertToInteractive('df-fc40a618-e603-4f30-ba59-7dacc1d36430')\"\n",
              "              title=\"Convert this dataframe to an interactive table.\"\n",
              "              style=\"display:none;\">\n",
              "        \n",
              "  <svg xmlns=\"http://www.w3.org/2000/svg\" height=\"24px\"viewBox=\"0 0 24 24\"\n",
              "       width=\"24px\">\n",
              "    <path d=\"M0 0h24v24H0V0z\" fill=\"none\"/>\n",
              "    <path d=\"M18.56 5.44l.94 2.06.94-2.06 2.06-.94-2.06-.94-.94-2.06-.94 2.06-2.06.94zm-11 1L8.5 8.5l.94-2.06 2.06-.94-2.06-.94L8.5 2.5l-.94 2.06-2.06.94zm10 10l.94 2.06.94-2.06 2.06-.94-2.06-.94-.94-2.06-.94 2.06-2.06.94z\"/><path d=\"M17.41 7.96l-1.37-1.37c-.4-.4-.92-.59-1.43-.59-.52 0-1.04.2-1.43.59L10.3 9.45l-7.72 7.72c-.78.78-.78 2.05 0 2.83L4 21.41c.39.39.9.59 1.41.59.51 0 1.02-.2 1.41-.59l7.78-7.78 2.81-2.81c.8-.78.8-2.07 0-2.86zM5.41 20L4 18.59l7.72-7.72 1.47 1.35L5.41 20z\"/>\n",
              "  </svg>\n",
              "      </button>\n",
              "      \n",
              "  <style>\n",
              "    .colab-df-container {\n",
              "      display:flex;\n",
              "      flex-wrap:wrap;\n",
              "      gap: 12px;\n",
              "    }\n",
              "\n",
              "    .colab-df-convert {\n",
              "      background-color: #E8F0FE;\n",
              "      border: none;\n",
              "      border-radius: 50%;\n",
              "      cursor: pointer;\n",
              "      display: none;\n",
              "      fill: #1967D2;\n",
              "      height: 32px;\n",
              "      padding: 0 0 0 0;\n",
              "      width: 32px;\n",
              "    }\n",
              "\n",
              "    .colab-df-convert:hover {\n",
              "      background-color: #E2EBFA;\n",
              "      box-shadow: 0px 1px 2px rgba(60, 64, 67, 0.3), 0px 1px 3px 1px rgba(60, 64, 67, 0.15);\n",
              "      fill: #174EA6;\n",
              "    }\n",
              "\n",
              "    [theme=dark] .colab-df-convert {\n",
              "      background-color: #3B4455;\n",
              "      fill: #D2E3FC;\n",
              "    }\n",
              "\n",
              "    [theme=dark] .colab-df-convert:hover {\n",
              "      background-color: #434B5C;\n",
              "      box-shadow: 0px 1px 3px 1px rgba(0, 0, 0, 0.15);\n",
              "      filter: drop-shadow(0px 1px 2px rgba(0, 0, 0, 0.3));\n",
              "      fill: #FFFFFF;\n",
              "    }\n",
              "  </style>\n",
              "\n",
              "      <script>\n",
              "        const buttonEl =\n",
              "          document.querySelector('#df-fc40a618-e603-4f30-ba59-7dacc1d36430 button.colab-df-convert');\n",
              "        buttonEl.style.display =\n",
              "          google.colab.kernel.accessAllowed ? 'block' : 'none';\n",
              "\n",
              "        async function convertToInteractive(key) {\n",
              "          const element = document.querySelector('#df-fc40a618-e603-4f30-ba59-7dacc1d36430');\n",
              "          const dataTable =\n",
              "            await google.colab.kernel.invokeFunction('convertToInteractive',\n",
              "                                                     [key], {});\n",
              "          if (!dataTable) return;\n",
              "\n",
              "          const docLinkHtml = 'Like what you see? Visit the ' +\n",
              "            '<a target=\"_blank\" href=https://colab.research.google.com/notebooks/data_table.ipynb>data table notebook</a>'\n",
              "            + ' to learn more about interactive tables.';\n",
              "          element.innerHTML = '';\n",
              "          dataTable['output_type'] = 'display_data';\n",
              "          await google.colab.output.renderOutput(dataTable, element);\n",
              "          const docLink = document.createElement('div');\n",
              "          docLink.innerHTML = docLinkHtml;\n",
              "          element.appendChild(docLink);\n",
              "        }\n",
              "      </script>\n",
              "    </div>\n",
              "  </div>\n",
              "  "
            ]
          },
          "metadata": {},
          "execution_count": 61
        }
      ]
    },
    {
      "cell_type": "code",
      "metadata": {
        "colab": {
          "base_uri": "https://localhost:8080/"
        },
        "id": "5zQtCKjMocTs",
        "outputId": "2c208315-1fe0-4c21-8927-72761e704d60"
      },
      "source": [
        "kmeans = KMeans(6)\n",
        "kmeans.fit(x)"
      ],
      "execution_count": 62,
      "outputs": [
        {
          "output_type": "execute_result",
          "data": {
            "text/plain": [
              "KMeans(n_clusters=6)"
            ]
          },
          "metadata": {},
          "execution_count": 62
        }
      ]
    },
    {
      "cell_type": "code",
      "metadata": {
        "colab": {
          "base_uri": "https://localhost:8080/"
        },
        "id": "oYTBu1XZpZIl",
        "outputId": "4fab4340-6278-4eca-c314-695f1e146b56"
      },
      "source": [
        "identified_clusters = kmeans.fit_predict(x)\n",
        "identified_clusters"
      ],
      "execution_count": 63,
      "outputs": [
        {
          "output_type": "execute_result",
          "data": {
            "text/plain": [
              "array([0, 2, 4, 2, 0, 0, 0, 0, 0, 0, 0, 0, 0, 0, 0, 0, 0, 2, 0, 2, 2, 0,\n",
              "       2, 2, 2, 2, 2, 2, 2, 2, 2, 2, 2, 2, 2, 2, 2, 2, 2, 2, 2, 2, 2, 2,\n",
              "       0, 2, 2, 2, 2, 0, 5, 0, 0, 2, 5, 2, 3, 5, 5, 5, 5, 1, 3, 3, 3, 3,\n",
              "       3, 1, 3, 3, 3, 1, 3, 4, 4, 4, 4, 1, 1], dtype=int32)"
            ]
          },
          "metadata": {},
          "execution_count": 63
        }
      ]
    },
    {
      "cell_type": "code",
      "metadata": {
        "colab": {
          "base_uri": "https://localhost:8080/"
        },
        "id": "aWX7s45_1gjT",
        "outputId": "6401066d-a115-4125-efc2-1d2d83057702"
      },
      "source": [
        "#Getting the Centroids\n",
        "centroids = kmeans.cluster_centers_\n",
        "centroids"
      ],
      "execution_count": 64,
      "outputs": [
        {
          "output_type": "execute_result",
          "data": {
            "text/plain": [
              "array([[28.26073464, 76.21267124],\n",
              "       [18.606831  , 83.1558004 ],\n",
              "       [26.37226819, 80.42505602],\n",
              "       [18.94454559, 76.50021999],\n",
              "       [11.31580717, 78.46255081],\n",
              "       [23.26858751, 87.94300961]])"
            ]
          },
          "metadata": {},
          "execution_count": 64
        }
      ]
    },
    {
      "cell_type": "code",
      "metadata": {
        "colab": {
          "base_uri": "https://localhost:8080/",
          "height": 285
        },
        "id": "EaYjs9PkpdCr",
        "outputId": "5951e1a3-dbeb-4298-d76b-693b69331f59"
      },
      "source": [
        "data_with_clusters = dataset.copy()\n",
        "data_with_clusters['Clusters'] = identified_clusters \n",
        "plt.scatter(data_with_clusters['Longitude'],data_with_clusters['Latitude'],c=data_with_clusters['Clusters'],cmap='rainbow')\n",
        "plt.scatter(centroids[:,1],centroids[:,0], color='black',marker='v')"
      ],
      "execution_count": 65,
      "outputs": [
        {
          "output_type": "execute_result",
          "data": {
            "text/plain": [
              "<matplotlib.collections.PathCollection at 0x7f2bdabdec10>"
            ]
          },
          "metadata": {},
          "execution_count": 65
        },
        {
          "output_type": "display_data",
          "data": {
            "text/plain": [
              "<Figure size 432x288 with 1 Axes>"
            ],
            "image/png": "[encoded data removed]"
          },
          "metadata": {}
        }
      ]
    },
    {
      "cell_type": "code",
      "metadata": {
        "colab": {
          "base_uri": "https://localhost:8080/",
          "height": 318
        },
        "id": "atZJMEWzptwF",
        "outputId": "b12be17d-a93d-48e0-8fed-f0f04b1af135"
      },
      "source": [
        "wcss=[]\n",
        "for i in range(1,10):\n",
        "  kmeans = KMeans(i)\n",
        "  kmeans.fit(x)\n",
        "  wcss_iter = kmeans.inertia_\n",
        "  wcss.append(wcss_iter)\n",
        "\n",
        "number_clusters = range(1,10)\n",
        "plt.plot(number_clusters,wcss)\n",
        "plt.title('The Elbow title')\n",
        "plt.xlabel('Number of clusters')\n",
        "plt.ylabel('WCSS')"
      ],
      "execution_count": 66,
      "outputs": [
        {
          "output_type": "execute_result",
          "data": {
            "text/plain": [
              "Text(0, 0.5, 'WCSS')"
            ]
          },
          "metadata": {},
          "execution_count": 66
        },
        {
          "output_type": "display_data",
          "data": {
            "text/plain": [
              "<Figure size 432x288 with 1 Axes>"
            ],
            "image/png": "[encoded data removed]"
          },
          "metadata": {}
        }
      ]
    },
    {
      "cell_type": "code",
      "metadata": {
        "colab": {
          "base_uri": "https://localhost:8080/",
          "height": 611
        },
        "id": "-REvFXPwxNv0",
        "outputId": "63dc42c9-8f69-42d5-b05c-233763c4ff67"
      },
      "source": [
        "geometry = [Point(xy) for xy in zip(dataset['Longitude'], dataset['Latitude'])]\n",
        "gdf = GeoDataFrame(data_with_clusters, geometry=geometry)   \n",
        "#this is a simple map that goes with geopandas\n",
        "# world = gpd.read_file(gpd.datasets.get_path('naturalearth_lowres'))\n",
        "world = gpd.read_file('/content/Indian_states.shp')\n",
        "fig,ax=plt.subplots(figsize=(20,10))\n",
        "world.plot(ax=ax,color='lightgrey')\n",
        "gdf[gdf['Clusters']==0].plot(ax=ax, marker='o', color='red', markersize=15,label='Cluster 0');\n",
        "gdf[gdf['Clusters']==1].plot(ax=ax, marker='o', color='green', markersize=15,label='Cluster 1');\n",
        "gdf[gdf['Clusters']==2].plot(ax=ax, marker='o', color='blue', markersize=15,label='Cluster 2');\n",
        "gdf[gdf['Clusters']==3].plot(ax=ax, marker='o', color='purple', markersize=15,label='Cluster 3');\n",
        "gdf[gdf['Clusters']==4].plot(ax=ax, marker='o', color='orange', markersize=15,label='Cluster 4');\n",
        "gdf[gdf['Clusters']==5].plot(ax=ax, marker='o', color='cyan', markersize=15,label='Cluster 5');\n",
        "plt.scatter(centroids[:,1],centroids[:,0],marker='v',color='black',linewidths=4)\n",
        "ax.legend()\n",
        "# ax.set_title('Distribution of Customers')"
      ],
      "execution_count": 67,
      "outputs": [
        {
          "output_type": "execute_result",
          "data": {
            "text/plain": [
              "<matplotlib.legend.Legend at 0x7f2bdac3c4d0>"
            ]
          },
          "metadata": {},
          "execution_count": 67
        },
        {
          "output_type": "display_data",
          "data": {
            "text/plain": [
              "<Figure size 1440x720 with 1 Axes>"
            ],
            "image/png": "[encoded data removed]"
          },
          "metadata": {}
        }
      ]
    },
    {
      "cell_type": "code",
      "metadata": {
        "colab": {
          "base_uri": "https://localhost:8080/",
          "height": 269
        },
        "id": "awFviWJyRAg7",
        "outputId": "84a7aaf1-a4a0-4ea1-f981-130658b6b1f9"
      },
      "source": [
        "data_with_clusters.groupby(by='Clusters').sum()"
      ],
      "execution_count": 68,
      "outputs": [
        {
          "output_type": "execute_result",
          "data": {
            "text/plain": [
              "            Latitude    Longitude  Apparel   Books  Electronics  Grocery\n",
              "Clusters                                                                \n",
              "0         565.214693  1524.253425    93.66  128.19        87.69   223.01\n",
              "1          93.034155   415.779002    19.11   46.91        40.49    38.01\n",
              "2         870.284850  2654.026849   191.17  250.74        93.49   333.59\n",
              "3         189.445456   765.002200    57.77   50.89        53.09   107.62\n",
              "4          56.579036   392.312754    11.95   42.61        13.75    61.09\n",
              "5         139.611525   527.658058    31.58   70.57        20.51    43.02"
            ],
            "text/html": [
              "\n",
              "  <div id=\"df-f7dd34b5-8bab-4a4e-8005-142f5f16276f\">\n",
              "    <div class=\"colab-df-container\">\n",
              "      <div>\n",
              "<style scoped>\n",
              "    .dataframe tbody tr th:only-of-type {\n",
              "        vertical-align: middle;\n",
              "    }\n",
              "\n",
              "    .dataframe tbody tr th {\n",
              "        vertical-align: top;\n",
              "    }\n",
              "\n",
              "    .dataframe thead th {\n",
              "        text-align: right;\n",
              "    }\n",
              "</style>\n",
              "<table border=\"1\" class=\"dataframe\">\n",
              "  <thead>\n",
              "    <tr style=\"text-align: right;\">\n",
              "      <th></th>\n",
              "      <th>Latitude</th>\n",
              "      <th>Longitude</th>\n",
              "      <th>Apparel</th>\n",
              "      <th>Books</th>\n",
              "      <th>Electronics</th>\n",
              "      <th>Grocery</th>\n",
              "    </tr>\n",
              "    <tr>\n",
              "      <th>Clusters</th>\n",
              "      <th></th>\n",
              "      <th></th>\n",
              "      <th></th>\n",
              "      <th></th>\n",
              "      <th></th>\n",
              "      <th></th>\n",
              "    </tr>\n",
              "  </thead>\n",
              "  <tbody>\n",
              "    <tr>\n",
              "      <th>0</th>\n",
              "      <td>565.214693</td>\n",
              "      <td>1524.253425</td>\n",
              "      <td>93.66</td>\n",
              "      <td>128.19</td>\n",
              "      <td>87.69</td>\n",
              "      <td>223.01</td>\n",
              "    </tr>\n",
              "    <tr>\n",
              "      <th>1</th>\n",
              "      <td>93.034155</td>\n",
              "      <td>415.779002</td>\n",
              "      <td>19.11</td>\n",
              "      <td>46.91</td>\n",
              "      <td>40.49</td>\n",
              "      <td>38.01</td>\n",
              "    </tr>\n",
              "    <tr>\n",
              "      <th>2</th>\n",
              "      <td>870.284850</td>\n",
              "      <td>2654.026849</td>\n",
              "      <td>191.17</td>\n",
              "      <td>250.74</td>\n",
              "      <td>93.49</td>\n",
              "      <td>333.59</td>\n",
              "    </tr>\n",
              "    <tr>\n",
              "      <th>3</th>\n",
              "      <td>189.445456</td>\n",
              "      <td>765.002200</td>\n",
              "      <td>57.77</td>\n",
              "      <td>50.89</td>\n",
              "      <td>53.09</td>\n",
              "      <td>107.62</td>\n",
              "    </tr>\n",
              "    <tr>\n",
              "      <th>4</th>\n",
              "      <td>56.579036</td>\n",
              "      <td>392.312754</td>\n",
              "      <td>11.95</td>\n",
              "      <td>42.61</td>\n",
              "      <td>13.75</td>\n",
              "      <td>61.09</td>\n",
              "    </tr>\n",
              "    <tr>\n",
              "      <th>5</th>\n",
              "      <td>139.611525</td>\n",
              "      <td>527.658058</td>\n",
              "      <td>31.58</td>\n",
              "      <td>70.57</td>\n",
              "      <td>20.51</td>\n",
              "      <td>43.02</td>\n",
              "    </tr>\n",
              "  </tbody>\n",
              "</table>\n",
              "</div>\n",
              "      <button class=\"colab-df-convert\" onclick=\"convertToInteractive('df-f7dd34b5-8bab-4a4e-8005-142f5f16276f')\"\n",
              "              title=\"Convert this dataframe to an interactive table.\"\n",
              "              style=\"display:none;\">\n",
              "        \n",
              "  <svg xmlns=\"http://www.w3.org/2000/svg\" height=\"24px\"viewBox=\"0 0 24 24\"\n",
              "       width=\"24px\">\n",
              "    <path d=\"M0 0h24v24H0V0z\" fill=\"none\"/>\n",
              "    <path d=\"M18.56 5.44l.94 2.06.94-2.06 2.06-.94-2.06-.94-.94-2.06-.94 2.06-2.06.94zm-11 1L8.5 8.5l.94-2.06 2.06-.94-2.06-.94L8.5 2.5l-.94 2.06-2.06.94zm10 10l.94 2.06.94-2.06 2.06-.94-2.06-.94-.94-2.06-.94 2.06-2.06.94z\"/><path d=\"M17.41 7.96l-1.37-1.37c-.4-.4-.92-.59-1.43-.59-.52 0-1.04.2-1.43.59L10.3 9.45l-7.72 7.72c-.78.78-.78 2.05 0 2.83L4 21.41c.39.39.9.59 1.41.59.51 0 1.02-.2 1.41-.59l7.78-7.78 2.81-2.81c.8-.78.8-2.07 0-2.86zM5.41 20L4 18.59l7.72-7.72 1.47 1.35L5.41 20z\"/>\n",
              "  </svg>\n",
              "      </button>\n",
              "      \n",
              "  <style>\n",
              "    .colab-df-container {\n",
              "      display:flex;\n",
              "      flex-wrap:wrap;\n",
              "      gap: 12px;\n",
              "    }\n",
              "\n",
              "    .colab-df-convert {\n",
              "      background-color: #E8F0FE;\n",
              "      border: none;\n",
              "      border-radius: 50%;\n",
              "      cursor: pointer;\n",
              "      display: none;\n",
              "      fill: #1967D2;\n",
              "      height: 32px;\n",
              "      padding: 0 0 0 0;\n",
              "      width: 32px;\n",
              "    }\n",
              "\n",
              "    .colab-df-convert:hover {\n",
              "      background-color: #E2EBFA;\n",
              "      box-shadow: 0px 1px 2px rgba(60, 64, 67, 0.3), 0px 1px 3px 1px rgba(60, 64, 67, 0.15);\n",
              "      fill: #174EA6;\n",
              "    }\n",
              "\n",
              "    [theme=dark] .colab-df-convert {\n",
              "      background-color: #3B4455;\n",
              "      fill: #D2E3FC;\n",
              "    }\n",
              "\n",
              "    [theme=dark] .colab-df-convert:hover {\n",
              "      background-color: #434B5C;\n",
              "      box-shadow: 0px 1px 3px 1px rgba(0, 0, 0, 0.15);\n",
              "      filter: drop-shadow(0px 1px 2px rgba(0, 0, 0, 0.3));\n",
              "      fill: #FFFFFF;\n",
              "    }\n",
              "  </style>\n",
              "\n",
              "      <script>\n",
              "        const buttonEl =\n",
              "          document.querySelector('#df-f7dd34b5-8bab-4a4e-8005-142f5f16276f button.colab-df-convert');\n",
              "        buttonEl.style.display =\n",
              "          google.colab.kernel.accessAllowed ? 'block' : 'none';\n",
              "\n",
              "        async function convertToInteractive(key) {\n",
              "          const element = document.querySelector('#df-f7dd34b5-8bab-4a4e-8005-142f5f16276f');\n",
              "          const dataTable =\n",
              "            await google.colab.kernel.invokeFunction('convertToInteractive',\n",
              "                                                     [key], {});\n",
              "          if (!dataTable) return;\n",
              "\n",
              "          const docLinkHtml = 'Like what you see? Visit the ' +\n",
              "            '<a target=\"_blank\" href=https://colab.research.google.com/notebooks/data_table.ipynb>data table notebook</a>'\n",
              "            + ' to learn more about interactive tables.';\n",
              "          element.innerHTML = '';\n",
              "          dataTable['output_type'] = 'display_data';\n",
              "          await google.colab.output.renderOutput(dataTable, element);\n",
              "          const docLink = document.createElement('div');\n",
              "          docLink.innerHTML = docLinkHtml;\n",
              "          element.appendChild(docLink);\n",
              "        }\n",
              "      </script>\n",
              "    </div>\n",
              "  </div>\n",
              "  "
            ]
          },
          "metadata": {},
          "execution_count": 68
        }
      ]
    },
    {
      "cell_type": "code",
      "metadata": {
        "colab": {
          "base_uri": "https://localhost:8080/"
        },
        "id": "Gs8me28UZB6n",
        "outputId": "833865ba-c5c9-40a4-b3d6-02c92212d339"
      },
      "source": [
        "centroids_demo = np.concatenate((centroids, [[26.5,82],[28.42,77.1]]))\n",
        "centroids_demo[1]=[26,79.5]\n",
        "centroids_demo[3]=[23.2,88]\n",
        "centroids_demo[6]=[30.5,77]\n",
        "centroids_demo"
      ],
      "execution_count": 69,
      "outputs": [
        {
          "output_type": "execute_result",
          "data": {
            "text/plain": [
              "array([[28.26073464, 76.21267124],\n",
              "       [26.        , 79.5       ],\n",
              "       [26.37226819, 80.42505602],\n",
              "       [23.2       , 88.        ],\n",
              "       [11.31580717, 78.46255081],\n",
              "       [23.26858751, 87.94300961],\n",
              "       [30.5       , 77.        ],\n",
              "       [28.42      , 77.1       ]])"
            ]
          },
          "metadata": {},
          "execution_count": 69
        }
      ]
    },
    {
      "cell_type": "code",
      "metadata": {
        "colab": {
          "base_uri": "https://localhost:8080/"
        },
        "id": "gjX0Th05alof",
        "outputId": "1f8c29be-f2a4-444f-9065-e25b0639299a"
      },
      "source": [
        "centroids"
      ],
      "execution_count": 70,
      "outputs": [
        {
          "output_type": "execute_result",
          "data": {
            "text/plain": [
              "array([[28.26073464, 76.21267124],\n",
              "       [18.606831  , 83.1558004 ],\n",
              "       [26.37226819, 80.42505602],\n",
              "       [18.94454559, 76.50021999],\n",
              "       [11.31580717, 78.46255081],\n",
              "       [23.26858751, 87.94300961]])"
            ]
          },
          "metadata": {},
          "execution_count": 70
        }
      ]
    },
    {
      "cell_type": "code",
      "metadata": {
        "id": "-PYGJi_GeSWl"
      },
      "source": [
        "kmeans = KMeans(9)\n",
        "kmeans.fit(x)\n",
        "identified_clusters = kmeans.fit_predict(x)\n",
        "centroids = kmeans.cluster_centers_\n",
        "data_with_clusters = dataset.copy()\n",
        "data_with_clusters['Clusters'] = identified_clusters "
      ],
      "execution_count": 71,
      "outputs": []
    },
    {
      "cell_type": "code",
      "metadata": {
        "colab": {
          "base_uri": "https://localhost:8080/",
          "height": 611
        },
        "id": "GV7Y8KAHVavQ",
        "outputId": "0e681d4c-ed1f-4f2d-b94d-48fa911fd0b3"
      },
      "source": [
        "geometry = [Point(xy) for xy in zip(dataset['Longitude'], dataset['Latitude'])]\n",
        "gdf = GeoDataFrame(data_with_clusters, geometry=geometry)   \n",
        "#this is a simple map that goes with geopandas\n",
        "# world = gpd.read_file(gpd.datasets.get_path('naturalearth_lowres'))\n",
        "world = gpd.read_file('/content/Indian_states.shp')\n",
        "fig,ax=plt.subplots(figsize=(20,10))\n",
        "world.plot(ax=ax,color='lightgrey')\n",
        "gdf[gdf['Clusters']==0].plot(ax=ax, marker='o', color='red', markersize=15,label='Cluster 0');\n",
        "gdf[gdf['Clusters']==1].plot(ax=ax, marker='o', color='green', markersize=15,label='Cluster 1');\n",
        "gdf[gdf['Clusters']==2].plot(ax=ax, marker='o', color='blue', markersize=15,label='Cluster 2');\n",
        "gdf[gdf['Clusters']==3].plot(ax=ax, marker='o', color='purple', markersize=15,label='Cluster 3');\n",
        "gdf[gdf['Clusters']==4].plot(ax=ax, marker='o', color='orange', markersize=15,label='Cluster 4');\n",
        "gdf[gdf['Clusters']==5].plot(ax=ax, marker='o', color='cyan', markersize=15,label='Cluster 5');\n",
        "gdf[gdf['Clusters']==6].plot(ax=ax, marker='o', color='magenta', markersize=15,label='Cluster 6');\n",
        "gdf[gdf['Clusters']==7].plot(ax=ax, marker='o', color='yellow', markersize=15,label='Cluster 7');\n",
        "gdf[gdf['Clusters']==8].plot(ax=ax, marker='o', color='brown', markersize=15,label='Cluster 8');\n",
        "plt.scatter(centroids_demo[:,1],centroids_demo[:,0],marker='v',color='black',linewidths=4)\n",
        "ax.legend()\n",
        "# ax.set_title('Distribution of Customers')"
      ],
      "execution_count": 72,
      "outputs": [
        {
          "output_type": "execute_result",
          "data": {
            "text/plain": [
              "<matplotlib.legend.Legend at 0x7f2bf99347d0>"
            ]
          },
          "metadata": {},
          "execution_count": 72
        },
        {
          "output_type": "display_data",
          "data": {
            "text/plain": [
              "<Figure size 1440x720 with 1 Axes>"
            ],
            "image/png": "[encoded data removed]"
          },
          "metadata": {}
        }
      ]
    },
    {
      "cell_type": "code",
      "metadata": {
        "colab": {
          "base_uri": "https://localhost:8080/",
          "height": 611
        },
        "id": "DZi_aHe5hTy9",
        "outputId": "e8d0674c-7831-4c63-ef33-fb725b91d535"
      },
      "source": [
        "geometry = [Point(xy) for xy in zip(dataset['Longitude'], dataset['Latitude'])]\n",
        "gdf = GeoDataFrame(data_with_clusters, geometry=geometry)   \n",
        "#this is a simple map that goes with geopandas\n",
        "# world = gpd.read_file(gpd.datasets.get_path('naturalearth_lowres'))\n",
        "world = gpd.read_file('/content/Indian_states.shp')\n",
        "fig,ax=plt.subplots(figsize=(20,10))\n",
        "world.plot(ax=ax,color='lightgrey')\n",
        "gdf[gdf['Clusters']==0].plot(ax=ax, marker='o', color='red', markersize=15,label='Cluster 0');\n",
        "gdf[gdf['Clusters']==1].plot(ax=ax, marker='o', color='green', markersize=15,label='Cluster 1');\n",
        "gdf[gdf['Clusters']==2].plot(ax=ax, marker='o', color='blue', markersize=15,label='Cluster 2');\n",
        "gdf[gdf['Clusters']==3].plot(ax=ax, marker='o', color='purple', markersize=15,label='Cluster 3');\n",
        "gdf[gdf['Clusters']==4].plot(ax=ax, marker='o', color='orange', markersize=15,label='Cluster 4');\n",
        "gdf[gdf['Clusters']==5].plot(ax=ax, marker='o', color='cyan', markersize=15,label='Cluster 5');\n",
        "gdf[gdf['Clusters']==6].plot(ax=ax, marker='o', color='magenta', markersize=15,label='Cluster 6');\n",
        "gdf[gdf['Clusters']==7].plot(ax=ax, marker='o', color='yellow', markersize=15,label='Cluster 7');\n",
        "gdf[gdf['Clusters']==8].plot(ax=ax, marker='o', color='brown', markersize=15,label='Cluster 8');\n",
        "plt.scatter(centroids_demo[:,1],centroids_demo[:,0],marker='v',color='black',linewidths=4)\n",
        "ax.legend()\n",
        "# ax.set_title('Distribution of Customers')"
      ],
      "execution_count": 73,
      "outputs": [
        {
          "output_type": "execute_result",
          "data": {
            "text/plain": [
              "<matplotlib.legend.Legend at 0x7f2bdabe4dd0>"
            ]
          },
          "metadata": {},
          "execution_count": 73
        },
        {
          "output_type": "display_data",
          "data": {
            "text/plain": [
              "<Figure size 1440x720 with 1 Axes>"
            ],
            "image/png": "[encoded data removed]"
          },
          "metadata": {}
        }
      ]
    },
    {
      "cell_type": "code",
      "metadata": {
        "colab": {
          "base_uri": "https://localhost:8080/",
          "height": 363
        },
        "id": "weaC0m6fWoK6",
        "outputId": "4da63fe8-47d8-4b6d-be71-645cd8391408"
      },
      "source": [
        "data_with_clusters.groupby(by='Clusters').sum()"
      ],
      "execution_count": 74,
      "outputs": [
        {
          "output_type": "execute_result",
          "data": {
            "text/plain": [
              "            Latitude    Longitude  Apparel   Books  Electronics  Grocery\n",
              "Clusters                                                                \n",
              "0         380.863119  1000.771499    62.06   79.30        71.30   127.39\n",
              "1          71.560633   331.801949     6.83   46.46        35.51    28.95\n",
              "2         795.661915  2406.137495   175.17  235.03        66.17   317.98\n",
              "3         108.585445   472.964907    17.80   49.28        35.78    66.01\n",
              "4         117.370126   442.851062    15.22   68.38        19.80    35.79\n",
              "5          42.051668   312.225216     7.79   24.47        13.48    51.86\n",
              "6          72.653490   296.237887    34.25   19.60        14.92    31.88\n",
              "7         207.085463   599.368870    41.48   49.04        19.05   114.58\n",
              "8         118.337856   416.673403    44.64   18.35        33.01    31.90"
            ],
            "text/html": [
              "\n",
              "  <div id=\"df-8b336d31-65c9-49da-a4a5-790f5722afa3\">\n",
              "    <div class=\"colab-df-container\">\n",
              "      <div>\n",
              "<style scoped>\n",
              "    .dataframe tbody tr th:only-of-type {\n",
              "        vertical-align: middle;\n",
              "    }\n",
              "\n",
              "    .dataframe tbody tr th {\n",
              "        vertical-align: top;\n",
              "    }\n",
              "\n",
              "    .dataframe thead th {\n",
              "        text-align: right;\n",
              "    }\n",
              "</style>\n",
              "<table border=\"1\" class=\"dataframe\">\n",
              "  <thead>\n",
              "    <tr style=\"text-align: right;\">\n",
              "      <th></th>\n",
              "      <th>Latitude</th>\n",
              "      <th>Longitude</th>\n",
              "      <th>Apparel</th>\n",
              "      <th>Books</th>\n",
              "      <th>Electronics</th>\n",
              "      <th>Grocery</th>\n",
              "    </tr>\n",
              "    <tr>\n",
              "      <th>Clusters</th>\n",
              "      <th></th>\n",
              "      <th></th>\n",
              "      <th></th>\n",
              "      <th></th>\n",
              "      <th></th>\n",
              "      <th></th>\n",
              "    </tr>\n",
              "  </thead>\n",
              "  <tbody>\n",
              "    <tr>\n",
              "      <th>0</th>\n",
              "      <td>380.863119</td>\n",
              "      <td>1000.771499</td>\n",
              "      <td>62.06</td>\n",
              "      <td>79.30</td>\n",
              "      <td>71.30</td>\n",
              "      <td>127.39</td>\n",
              "    </tr>\n",
              "    <tr>\n",
              "      <th>1</th>\n",
              "      <td>71.560633</td>\n",
              "      <td>331.801949</td>\n",
              "      <td>6.83</td>\n",
              "      <td>46.46</td>\n",
              "      <td>35.51</td>\n",
              "      <td>28.95</td>\n",
              "    </tr>\n",
              "    <tr>\n",
              "      <th>2</th>\n",
              "      <td>795.661915</td>\n",
              "      <td>2406.137495</td>\n",
              "      <td>175.17</td>\n",
              "      <td>235.03</td>\n",
              "      <td>66.17</td>\n",
              "      <td>317.98</td>\n",
              "    </tr>\n",
              "    <tr>\n",
              "      <th>3</th>\n",
              "      <td>108.585445</td>\n",
              "      <td>472.964907</td>\n",
              "      <td>17.80</td>\n",
              "      <td>49.28</td>\n",
              "      <td>35.78</td>\n",
              "      <td>66.01</td>\n",
              "    </tr>\n",
              "    <tr>\n",
              "      <th>4</th>\n",
              "      <td>117.370126</td>\n",
              "      <td>442.851062</td>\n",
              "      <td>15.22</td>\n",
              "      <td>68.38</td>\n",
              "      <td>19.80</td>\n",
              "      <td>35.79</td>\n",
              "    </tr>\n",
              "    <tr>\n",
              "      <th>5</th>\n",
              "      <td>42.051668</td>\n",
              "      <td>312.225216</td>\n",
              "      <td>7.79</td>\n",
              "      <td>24.47</td>\n",
              "      <td>13.48</td>\n",
              "      <td>51.86</td>\n",
              "    </tr>\n",
              "    <tr>\n",
              "      <th>6</th>\n",
              "      <td>72.653490</td>\n",
              "      <td>296.237887</td>\n",
              "      <td>34.25</td>\n",
              "      <td>19.60</td>\n",
              "      <td>14.92</td>\n",
              "      <td>31.88</td>\n",
              "    </tr>\n",
              "    <tr>\n",
              "      <th>7</th>\n",
              "      <td>207.085463</td>\n",
              "      <td>599.368870</td>\n",
              "      <td>41.48</td>\n",
              "      <td>49.04</td>\n",
              "      <td>19.05</td>\n",
              "      <td>114.58</td>\n",
              "    </tr>\n",
              "    <tr>\n",
              "      <th>8</th>\n",
              "      <td>118.337856</td>\n",
              "      <td>416.673403</td>\n",
              "      <td>44.64</td>\n",
              "      <td>18.35</td>\n",
              "      <td>33.01</td>\n",
              "      <td>31.90</td>\n",
              "    </tr>\n",
              "  </tbody>\n",
              "</table>\n",
              "</div>\n",
              "      <button class=\"colab-df-convert\" onclick=\"convertToInteractive('df-8b336d31-65c9-49da-a4a5-790f5722afa3')\"\n",
              "              title=\"Convert this dataframe to an interactive table.\"\n",
              "              style=\"display:none;\">\n",
              "        \n",
              "  <svg xmlns=\"http://www.w3.org/2000/svg\" height=\"24px\"viewBox=\"0 0 24 24\"\n",
              "       width=\"24px\">\n",
              "    <path d=\"M0 0h24v24H0V0z\" fill=\"none\"/>\n",
              "    <path d=\"M18.56 5.44l.94 2.06.94-2.06 2.06-.94-2.06-.94-.94-2.06-.94 2.06-2.06.94zm-11 1L8.5 8.5l.94-2.06 2.06-.94-2.06-.94L8.5 2.5l-.94 2.06-2.06.94zm10 10l.94 2.06.94-2.06 2.06-.94-2.06-.94-.94-2.06-.94 2.06-2.06.94z\"/><path d=\"M17.41 7.96l-1.37-1.37c-.4-.4-.92-.59-1.43-.59-.52 0-1.04.2-1.43.59L10.3 9.45l-7.72 7.72c-.78.78-.78 2.05 0 2.83L4 21.41c.39.39.9.59 1.41.59.51 0 1.02-.2 1.41-.59l7.78-7.78 2.81-2.81c.8-.78.8-2.07 0-2.86zM5.41 20L4 18.59l7.72-7.72 1.47 1.35L5.41 20z\"/>\n",
              "  </svg>\n",
              "      </button>\n",
              "      \n",
              "  <style>\n",
              "    .colab-df-container {\n",
              "      display:flex;\n",
              "      flex-wrap:wrap;\n",
              "      gap: 12px;\n",
              "    }\n",
              "\n",
              "    .colab-df-convert {\n",
              "      background-color: #E8F0FE;\n",
              "      border: none;\n",
              "      border-radius: 50%;\n",
              "      cursor: pointer;\n",
              "      display: none;\n",
              "      fill: #1967D2;\n",
              "      height: 32px;\n",
              "      padding: 0 0 0 0;\n",
              "      width: 32px;\n",
              "    }\n",
              "\n",
              "    .colab-df-convert:hover {\n",
              "      background-color: #E2EBFA;\n",
              "      box-shadow: 0px 1px 2px rgba(60, 64, 67, 0.3), 0px 1px 3px 1px rgba(60, 64, 67, 0.15);\n",
              "      fill: #174EA6;\n",
              "    }\n",
              "\n",
              "    [theme=dark] .colab-df-convert {\n",
              "      background-color: #3B4455;\n",
              "      fill: #D2E3FC;\n",
              "    }\n",
              "\n",
              "    [theme=dark] .colab-df-convert:hover {\n",
              "      background-color: #434B5C;\n",
              "      box-shadow: 0px 1px 3px 1px rgba(0, 0, 0, 0.15);\n",
              "      filter: drop-shadow(0px 1px 2px rgba(0, 0, 0, 0.3));\n",
              "      fill: #FFFFFF;\n",
              "    }\n",
              "  </style>\n",
              "\n",
              "      <script>\n",
              "        const buttonEl =\n",
              "          document.querySelector('#df-8b336d31-65c9-49da-a4a5-790f5722afa3 button.colab-df-convert');\n",
              "        buttonEl.style.display =\n",
              "          google.colab.kernel.accessAllowed ? 'block' : 'none';\n",
              "\n",
              "        async function convertToInteractive(key) {\n",
              "          const element = document.querySelector('#df-8b336d31-65c9-49da-a4a5-790f5722afa3');\n",
              "          const dataTable =\n",
              "            await google.colab.kernel.invokeFunction('convertToInteractive',\n",
              "                                                     [key], {});\n",
              "          if (!dataTable) return;\n",
              "\n",
              "          const docLinkHtml = 'Like what you see? Visit the ' +\n",
              "            '<a target=\"_blank\" href=https://colab.research.google.com/notebooks/data_table.ipynb>data table notebook</a>'\n",
              "            + ' to learn more about interactive tables.';\n",
              "          element.innerHTML = '';\n",
              "          dataTable['output_type'] = 'display_data';\n",
              "          await google.colab.output.renderOutput(dataTable, element);\n",
              "          const docLink = document.createElement('div');\n",
              "          docLink.innerHTML = docLinkHtml;\n",
              "          element.appendChild(docLink);\n",
              "        }\n",
              "      </script>\n",
              "    </div>\n",
              "  </div>\n",
              "  "
            ]
          },
          "metadata": {},
          "execution_count": 74
        }
      ]
    },
    {
      "cell_type": "code",
      "metadata": {
        "id": "B5hIykUSBVIn"
      },
      "source": [
        "import pandas as pd\n",
        "import numpy as np\n",
        "from matplotlib import pyplot as plt\n",
        "from sklearn.cluster import AgglomerativeClustering\n",
        "import scipy.cluster.hierarchy as sch"
      ],
      "execution_count": 75,
      "outputs": []
    },
    {
      "cell_type": "code",
      "metadata": {
        "id": "df1ibdzLE5ue"
      },
      "source": [
        "X = dataset.iloc[:, [1, 0]].values"
      ],
      "execution_count": 76,
      "outputs": []
    },
    {
      "cell_type": "code",
      "metadata": {
        "colab": {
          "base_uri": "https://localhost:8080/",
          "height": 266
        },
        "id": "ldeceX4gQWHy",
        "outputId": "e0b04945-1ce1-4470-d392-b6f3c2401f46"
      },
      "source": [
        "dendrogram = sch.dendrogram(sch.linkage(X, method='ward'))"
      ],
      "execution_count": 77,
      "outputs": [
        {
          "output_type": "display_data",
          "data": {
            "text/plain": [
              "<Figure size 432x288 with 1 Axes>"
            ],
            "image/png": "[encoded data removed]"
          },
          "metadata": {}
        }
      ]
    },
    {
      "cell_type": "code",
      "metadata": {
        "colab": {
          "base_uri": "https://localhost:8080/"
        },
        "id": "WsIFjAFtQj8d",
        "outputId": "ed620acb-8bbf-49d5-fcae-096609572d55"
      },
      "source": [
        "model = AgglomerativeClustering(n_clusters=6, affinity='euclidean', linkage='ward')\n",
        "model.fit(X)\n",
        "labels = model.labels_\n",
        "labels"
      ],
      "execution_count": 78,
      "outputs": [
        {
          "output_type": "execute_result",
          "data": {
            "text/plain": [
              "array([0, 3, 4, 3, 0, 0, 0, 0, 0, 0, 0, 0, 0, 0, 0, 0, 0, 0, 0, 3, 3, 0,\n",
              "       3, 3, 3, 3, 3, 3, 3, 3, 3, 3, 3, 3, 3, 3, 3, 3, 3, 3, 3, 3, 3, 3,\n",
              "       0, 3, 3, 3, 3, 0, 5, 0, 0, 3, 5, 3, 1, 5, 5, 5, 5, 5, 1, 1, 1, 1,\n",
              "       1, 2, 2, 2, 2, 2, 1, 2, 2, 4, 4, 2, 2])"
            ]
          },
          "metadata": {},
          "execution_count": 78
        }
      ]
    },
    {
      "cell_type": "code",
      "metadata": {
        "colab": {
          "base_uri": "https://localhost:8080/",
          "height": 268
        },
        "id": "G5Z66HYBQq_o",
        "outputId": "9349f631-da4c-4d9c-b48e-0336ca8b3bb9"
      },
      "source": [
        "plt.scatter(X[labels==0, 0], X[labels==0, 1], s=50, marker='o', color='red')\n",
        "plt.scatter(X[labels==1, 0], X[labels==1, 1], s=50, marker='o', color='blue')\n",
        "plt.scatter(X[labels==2, 0], X[labels==2, 1], s=50, marker='o', color='green')\n",
        "plt.scatter(X[labels==3, 0], X[labels==3, 1], s=50, marker='o', color='purple')\n",
        "plt.scatter(X[labels==4, 0], X[labels==4, 1], s=50, marker='o', color='orange')\n",
        "plt.show()"
      ],
      "execution_count": 79,
      "outputs": [
        {
          "output_type": "display_data",
          "data": {
            "text/plain": [
              "<Figure size 432x288 with 1 Axes>"
            ],
            "image/png": "[encoded data removed]"
          },
          "metadata": {}
        }
      ]
    }
  ]
}