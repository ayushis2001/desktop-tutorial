{
 "cells": [
  {
   "cell_type": "code",
   "execution_count": 2,
   "metadata": {},
   "outputs": [],
   "source": [
    "import numpy as np\n",
    "import pandas as pd \n",
    "import matplotlib.pyplot as plt\n",
    "from sklearn.model_selection import train_test_split\n",
    "import seaborn as sns"
   ]
  },
  {
   "cell_type": "code",
   "execution_count": 3,
   "metadata": {},
   "outputs": [],
   "source": [
    "data=pd.read_csv(\"crack_detection.csv\")"
   ]
  },
  {
   "cell_type": "code",
   "execution_count": 4,
   "metadata": {},
   "outputs": [
    {
     "data": {
      "text/html": [
       "<div>\n",
       "<style scoped>\n",
       "    .dataframe tbody tr th:only-of-type {\n",
       "        vertical-align: middle;\n",
       "    }\n",
       "\n",
       "    .dataframe tbody tr th {\n",
       "        vertical-align: top;\n",
       "    }\n",
       "\n",
       "    .dataframe thead th {\n",
       "        text-align: right;\n",
       "    }\n",
       "</style>\n",
       "<table border=\"1\" class=\"dataframe\">\n",
       "  <thead>\n",
       "    <tr style=\"text-align: right;\">\n",
       "      <th></th>\n",
       "      <th>Unnamed: 0</th>\n",
       "      <th>mean_r</th>\n",
       "      <th>std_r</th>\n",
       "      <th>kur_r</th>\n",
       "      <th>skew_r</th>\n",
       "      <th>mean_g</th>\n",
       "      <th>std_g</th>\n",
       "      <th>kur_g</th>\n",
       "      <th>skew_g</th>\n",
       "      <th>mean_b</th>\n",
       "      <th>...</th>\n",
       "      <th>contrast_r</th>\n",
       "      <th>contrast_g</th>\n",
       "      <th>contrast_b</th>\n",
       "      <th>corr_rg</th>\n",
       "      <th>corr_rb</th>\n",
       "      <th>corr_gb</th>\n",
       "      <th>moment_r</th>\n",
       "      <th>moment_g</th>\n",
       "      <th>moment_b</th>\n",
       "      <th>label</th>\n",
       "    </tr>\n",
       "  </thead>\n",
       "  <tbody>\n",
       "    <tr>\n",
       "      <th>0</th>\n",
       "      <td>0</td>\n",
       "      <td>107.5734</td>\n",
       "      <td>29.267480</td>\n",
       "      <td>0.744029</td>\n",
       "      <td>0.408828</td>\n",
       "      <td>110.2533</td>\n",
       "      <td>26.953218</td>\n",
       "      <td>1.254689</td>\n",
       "      <td>-0.135613</td>\n",
       "      <td>113.5715</td>\n",
       "      <td>...</td>\n",
       "      <td>9.181953</td>\n",
       "      <td>177.0</td>\n",
       "      <td>173.0</td>\n",
       "      <td>162.0</td>\n",
       "      <td>0.951368</td>\n",
       "      <td>0.913876</td>\n",
       "      <td>0.803333</td>\n",
       "      <td>856.585412</td>\n",
       "      <td>726.475939</td>\n",
       "      <td>0</td>\n",
       "    </tr>\n",
       "    <tr>\n",
       "      <th>1</th>\n",
       "      <td>1</td>\n",
       "      <td>178.6713</td>\n",
       "      <td>14.917756</td>\n",
       "      <td>3.192406</td>\n",
       "      <td>0.238175</td>\n",
       "      <td>184.4947</td>\n",
       "      <td>14.882156</td>\n",
       "      <td>3.035196</td>\n",
       "      <td>0.141160</td>\n",
       "      <td>190.8538</td>\n",
       "      <td>...</td>\n",
       "      <td>9.207314</td>\n",
       "      <td>142.0</td>\n",
       "      <td>136.0</td>\n",
       "      <td>129.0</td>\n",
       "      <td>0.988325</td>\n",
       "      <td>0.989474</td>\n",
       "      <td>0.976787</td>\n",
       "      <td>222.539456</td>\n",
       "      <td>221.478572</td>\n",
       "      <td>0</td>\n",
       "    </tr>\n",
       "    <tr>\n",
       "      <th>2</th>\n",
       "      <td>2</td>\n",
       "      <td>176.6517</td>\n",
       "      <td>34.618255</td>\n",
       "      <td>-0.146336</td>\n",
       "      <td>-0.421552</td>\n",
       "      <td>161.3083</td>\n",
       "      <td>33.688699</td>\n",
       "      <td>0.057178</td>\n",
       "      <td>-0.521476</td>\n",
       "      <td>147.2760</td>\n",
       "      <td>...</td>\n",
       "      <td>9.186737</td>\n",
       "      <td>199.0</td>\n",
       "      <td>200.0</td>\n",
       "      <td>194.0</td>\n",
       "      <td>0.968581</td>\n",
       "      <td>0.967398</td>\n",
       "      <td>0.890845</td>\n",
       "      <td>1198.423587</td>\n",
       "      <td>1134.928451</td>\n",
       "      <td>1</td>\n",
       "    </tr>\n",
       "    <tr>\n",
       "      <th>3</th>\n",
       "      <td>3</td>\n",
       "      <td>113.5760</td>\n",
       "      <td>20.084502</td>\n",
       "      <td>0.719752</td>\n",
       "      <td>0.737728</td>\n",
       "      <td>114.0056</td>\n",
       "      <td>19.536222</td>\n",
       "      <td>0.655846</td>\n",
       "      <td>0.729521</td>\n",
       "      <td>113.6179</td>\n",
       "      <td>...</td>\n",
       "      <td>9.197973</td>\n",
       "      <td>146.0</td>\n",
       "      <td>142.0</td>\n",
       "      <td>138.0</td>\n",
       "      <td>0.987383</td>\n",
       "      <td>0.983663</td>\n",
       "      <td>0.961305</td>\n",
       "      <td>403.387224</td>\n",
       "      <td>381.663969</td>\n",
       "      <td>0</td>\n",
       "    </tr>\n",
       "    <tr>\n",
       "      <th>4</th>\n",
       "      <td>4</td>\n",
       "      <td>125.3565</td>\n",
       "      <td>29.251595</td>\n",
       "      <td>0.430344</td>\n",
       "      <td>0.833496</td>\n",
       "      <td>129.5277</td>\n",
       "      <td>28.661968</td>\n",
       "      <td>0.475502</td>\n",
       "      <td>0.804161</td>\n",
       "      <td>131.9745</td>\n",
       "      <td>...</td>\n",
       "      <td>9.189257</td>\n",
       "      <td>173.0</td>\n",
       "      <td>176.0</td>\n",
       "      <td>177.0</td>\n",
       "      <td>0.980727</td>\n",
       "      <td>0.986702</td>\n",
       "      <td>0.950291</td>\n",
       "      <td>855.655808</td>\n",
       "      <td>821.508433</td>\n",
       "      <td>1</td>\n",
       "    </tr>\n",
       "  </tbody>\n",
       "</table>\n",
       "<p>5 rows × 25 columns</p>\n",
       "</div>"
      ],
      "text/plain": [
       "   Unnamed: 0    mean_r      std_r     kur_r    skew_r    mean_g      std_g  \\\n",
       "0           0  107.5734  29.267480  0.744029  0.408828  110.2533  26.953218   \n",
       "1           1  178.6713  14.917756  3.192406  0.238175  184.4947  14.882156   \n",
       "2           2  176.6517  34.618255 -0.146336 -0.421552  161.3083  33.688699   \n",
       "3           3  113.5760  20.084502  0.719752  0.737728  114.0056  19.536222   \n",
       "4           4  125.3565  29.251595  0.430344  0.833496  129.5277  28.661968   \n",
       "\n",
       "      kur_g    skew_g    mean_b  ...  contrast_r  contrast_g  contrast_b  \\\n",
       "0  1.254689 -0.135613  113.5715  ...    9.181953       177.0       173.0   \n",
       "1  3.035196  0.141160  190.8538  ...    9.207314       142.0       136.0   \n",
       "2  0.057178 -0.521476  147.2760  ...    9.186737       199.0       200.0   \n",
       "3  0.655846  0.729521  113.6179  ...    9.197973       146.0       142.0   \n",
       "4  0.475502  0.804161  131.9745  ...    9.189257       173.0       176.0   \n",
       "\n",
       "   corr_rg   corr_rb   corr_gb  moment_r     moment_g     moment_b  label  \n",
       "0    162.0  0.951368  0.913876  0.803333   856.585412   726.475939      0  \n",
       "1    129.0  0.988325  0.989474  0.976787   222.539456   221.478572      0  \n",
       "2    194.0  0.968581  0.967398  0.890845  1198.423587  1134.928451      1  \n",
       "3    138.0  0.987383  0.983663  0.961305   403.387224   381.663969      0  \n",
       "4    177.0  0.980727  0.986702  0.950291   855.655808   821.508433      1  \n",
       "\n",
       "[5 rows x 25 columns]"
      ]
     },
     "execution_count": 4,
     "metadata": {},
     "output_type": "execute_result"
    }
   ],
   "source": [
    "data.head()"
   ]
  },
  {
   "cell_type": "code",
   "execution_count": 5,
   "metadata": {},
   "outputs": [
    {
     "name": "stdout",
     "output_type": "stream",
     "text": [
      "<class 'pandas.core.frame.DataFrame'>\n",
      "RangeIndex: 700 entries, 0 to 699\n",
      "Data columns (total 25 columns):\n",
      " #   Column      Non-Null Count  Dtype  \n",
      "---  ------      --------------  -----  \n",
      " 0   Unnamed: 0  700 non-null    int64  \n",
      " 1   mean_r      700 non-null    float64\n",
      " 2   std_r       700 non-null    float64\n",
      " 3   kur_r       700 non-null    float64\n",
      " 4   skew_r      700 non-null    float64\n",
      " 5   mean_g      700 non-null    float64\n",
      " 6   std_g       700 non-null    float64\n",
      " 7   kur_g       700 non-null    float64\n",
      " 8   skew_g      700 non-null    float64\n",
      " 9   mean_b      700 non-null    float64\n",
      " 10  std_b       700 non-null    float64\n",
      " 11  kur_b       700 non-null    float64\n",
      " 12  skew_b      700 non-null    float64\n",
      " 13  entropy_r   700 non-null    float64\n",
      " 14  entropy_g   700 non-null    float64\n",
      " 15  contrast_r  700 non-null    float64\n",
      " 16  contrast_g  700 non-null    float64\n",
      " 17  contrast_b  700 non-null    float64\n",
      " 18  corr_rg     700 non-null    float64\n",
      " 19  corr_rb     700 non-null    float64\n",
      " 20  corr_gb     700 non-null    float64\n",
      " 21  moment_r    700 non-null    float64\n",
      " 22  moment_g    700 non-null    float64\n",
      " 23  moment_b    700 non-null    float64\n",
      " 24  label       700 non-null    int64  \n",
      "dtypes: float64(23), int64(2)\n",
      "memory usage: 136.8 KB\n"
     ]
    }
   ],
   "source": [
    "data.info()"
   ]
  },
  {
   "cell_type": "code",
   "execution_count": 6,
   "metadata": {},
   "outputs": [
    {
     "data": {
      "text/plain": [
       "0    351\n",
       "1    349\n",
       "Name: label, dtype: int64"
      ]
     },
     "execution_count": 6,
     "metadata": {},
     "output_type": "execute_result"
    }
   ],
   "source": [
    "data['label'].value_counts()"
   ]
  },
  {
   "cell_type": "code",
   "execution_count": 7,
   "metadata": {},
   "outputs": [
    {
     "data": {
      "text/plain": [
       "(700, 25)"
      ]
     },
     "execution_count": 7,
     "metadata": {},
     "output_type": "execute_result"
    }
   ],
   "source": [
    "data.shape"
   ]
  },
  {
   "cell_type": "code",
   "execution_count": 21,
   "metadata": {},
   "outputs": [
    {
     "data": {
      "text/plain": [
       "Unnamed: 0    0\n",
       "mean_r        0\n",
       "std_r         0\n",
       "kur_r         0\n",
       "skew_r        0\n",
       "mean_g        0\n",
       "std_g         0\n",
       "kur_g         0\n",
       "skew_g        0\n",
       "mean_b        0\n",
       "std_b         0\n",
       "kur_b         0\n",
       "skew_b        0\n",
       "entropy_r     0\n",
       "entropy_g     0\n",
       "contrast_r    0\n",
       "contrast_g    0\n",
       "contrast_b    0\n",
       "corr_rg       0\n",
       "corr_rb       0\n",
       "corr_gb       0\n",
       "moment_r      0\n",
       "moment_g      0\n",
       "moment_b      0\n",
       "label         0\n",
       "dtype: int64"
      ]
     },
     "execution_count": 21,
     "metadata": {},
     "output_type": "execute_result"
    }
   ],
   "source": [
    "data.isnull().sum()"
   ]
  },
  {
   "cell_type": "code",
   "execution_count": 8,
   "metadata": {},
   "outputs": [
    {
     "data": {
      "text/html": [
       "<div>\n",
       "<style scoped>\n",
       "    .dataframe tbody tr th:only-of-type {\n",
       "        vertical-align: middle;\n",
       "    }\n",
       "\n",
       "    .dataframe tbody tr th {\n",
       "        vertical-align: top;\n",
       "    }\n",
       "\n",
       "    .dataframe thead th {\n",
       "        text-align: right;\n",
       "    }\n",
       "</style>\n",
       "<table border=\"1\" class=\"dataframe\">\n",
       "  <thead>\n",
       "    <tr style=\"text-align: right;\">\n",
       "      <th></th>\n",
       "      <th>Unnamed: 0</th>\n",
       "      <th>mean_r</th>\n",
       "      <th>std_r</th>\n",
       "      <th>kur_r</th>\n",
       "      <th>skew_r</th>\n",
       "      <th>mean_g</th>\n",
       "      <th>std_g</th>\n",
       "      <th>kur_g</th>\n",
       "      <th>skew_g</th>\n",
       "      <th>mean_b</th>\n",
       "      <th>...</th>\n",
       "      <th>contrast_r</th>\n",
       "      <th>contrast_g</th>\n",
       "      <th>contrast_b</th>\n",
       "      <th>corr_rg</th>\n",
       "      <th>corr_rb</th>\n",
       "      <th>corr_gb</th>\n",
       "      <th>moment_r</th>\n",
       "      <th>moment_g</th>\n",
       "      <th>moment_b</th>\n",
       "      <th>label</th>\n",
       "    </tr>\n",
       "  </thead>\n",
       "  <tbody>\n",
       "    <tr>\n",
       "      <th>count</th>\n",
       "      <td>700.00000</td>\n",
       "      <td>700.000000</td>\n",
       "      <td>700.000000</td>\n",
       "      <td>700.000000</td>\n",
       "      <td>700.000000</td>\n",
       "      <td>700.000000</td>\n",
       "      <td>700.000000</td>\n",
       "      <td>700.000000</td>\n",
       "      <td>700.000000</td>\n",
       "      <td>700.000000</td>\n",
       "      <td>...</td>\n",
       "      <td>700.000000</td>\n",
       "      <td>700.000000</td>\n",
       "      <td>700.000000</td>\n",
       "      <td>700.000000</td>\n",
       "      <td>700.000000</td>\n",
       "      <td>700.000000</td>\n",
       "      <td>700.000000</td>\n",
       "      <td>700.000000</td>\n",
       "      <td>700.000000</td>\n",
       "      <td>700.000000</td>\n",
       "    </tr>\n",
       "    <tr>\n",
       "      <th>mean</th>\n",
       "      <td>349.50000</td>\n",
       "      <td>129.904131</td>\n",
       "      <td>29.725915</td>\n",
       "      <td>0.783304</td>\n",
       "      <td>0.210021</td>\n",
       "      <td>129.513118</td>\n",
       "      <td>28.191406</td>\n",
       "      <td>0.905234</td>\n",
       "      <td>0.210064</td>\n",
       "      <td>128.842019</td>\n",
       "      <td>...</td>\n",
       "      <td>9.185198</td>\n",
       "      <td>178.245714</td>\n",
       "      <td>173.781429</td>\n",
       "      <td>170.375714</td>\n",
       "      <td>0.984945</td>\n",
       "      <td>0.982444</td>\n",
       "      <td>0.958198</td>\n",
       "      <td>978.008986</td>\n",
       "      <td>880.738813</td>\n",
       "      <td>0.498571</td>\n",
       "    </tr>\n",
       "    <tr>\n",
       "      <th>std</th>\n",
       "      <td>202.21688</td>\n",
       "      <td>22.533741</td>\n",
       "      <td>9.721830</td>\n",
       "      <td>2.921148</td>\n",
       "      <td>0.832188</td>\n",
       "      <td>20.781828</td>\n",
       "      <td>9.279358</td>\n",
       "      <td>3.000051</td>\n",
       "      <td>0.848674</td>\n",
       "      <td>19.436542</td>\n",
       "      <td>...</td>\n",
       "      <td>0.018515</td>\n",
       "      <td>33.888983</td>\n",
       "      <td>34.655417</td>\n",
       "      <td>35.610478</td>\n",
       "      <td>0.024409</td>\n",
       "      <td>0.027450</td>\n",
       "      <td>0.069144</td>\n",
       "      <td>565.834008</td>\n",
       "      <td>520.580605</td>\n",
       "      <td>0.500355</td>\n",
       "    </tr>\n",
       "    <tr>\n",
       "      <th>min</th>\n",
       "      <td>0.00000</td>\n",
       "      <td>72.085700</td>\n",
       "      <td>5.257114</td>\n",
       "      <td>-1.616288</td>\n",
       "      <td>-3.788320</td>\n",
       "      <td>78.022200</td>\n",
       "      <td>4.543611</td>\n",
       "      <td>-1.567842</td>\n",
       "      <td>-3.761659</td>\n",
       "      <td>82.738400</td>\n",
       "      <td>...</td>\n",
       "      <td>9.085941</td>\n",
       "      <td>55.000000</td>\n",
       "      <td>48.000000</td>\n",
       "      <td>52.000000</td>\n",
       "      <td>0.731441</td>\n",
       "      <td>0.740211</td>\n",
       "      <td>0.279195</td>\n",
       "      <td>27.637244</td>\n",
       "      <td>20.644398</td>\n",
       "      <td>0.000000</td>\n",
       "    </tr>\n",
       "    <tr>\n",
       "      <th>25%</th>\n",
       "      <td>174.75000</td>\n",
       "      <td>117.223100</td>\n",
       "      <td>21.865794</td>\n",
       "      <td>-0.520055</td>\n",
       "      <td>-0.251850</td>\n",
       "      <td>118.032050</td>\n",
       "      <td>20.951718</td>\n",
       "      <td>-0.460405</td>\n",
       "      <td>-0.247178</td>\n",
       "      <td>118.039500</td>\n",
       "      <td>...</td>\n",
       "      <td>9.177954</td>\n",
       "      <td>152.750000</td>\n",
       "      <td>150.000000</td>\n",
       "      <td>146.000000</td>\n",
       "      <td>0.984907</td>\n",
       "      <td>0.982613</td>\n",
       "      <td>0.957100</td>\n",
       "      <td>478.115830</td>\n",
       "      <td>438.975044</td>\n",
       "      <td>0.000000</td>\n",
       "    </tr>\n",
       "    <tr>\n",
       "      <th>50%</th>\n",
       "      <td>349.50000</td>\n",
       "      <td>127.525400</td>\n",
       "      <td>31.030772</td>\n",
       "      <td>-0.071472</td>\n",
       "      <td>0.211199</td>\n",
       "      <td>127.457500</td>\n",
       "      <td>29.333898</td>\n",
       "      <td>-0.011488</td>\n",
       "      <td>0.202783</td>\n",
       "      <td>126.579200</td>\n",
       "      <td>...</td>\n",
       "      <td>9.188351</td>\n",
       "      <td>184.500000</td>\n",
       "      <td>179.000000</td>\n",
       "      <td>175.000000</td>\n",
       "      <td>0.991413</td>\n",
       "      <td>0.989603</td>\n",
       "      <td>0.974893</td>\n",
       "      <td>962.908945</td>\n",
       "      <td>860.477925</td>\n",
       "      <td>0.000000</td>\n",
       "    </tr>\n",
       "    <tr>\n",
       "      <th>75%</th>\n",
       "      <td>524.25000</td>\n",
       "      <td>140.418825</td>\n",
       "      <td>37.210949</td>\n",
       "      <td>1.042058</td>\n",
       "      <td>0.593044</td>\n",
       "      <td>138.861175</td>\n",
       "      <td>34.737146</td>\n",
       "      <td>1.177957</td>\n",
       "      <td>0.613642</td>\n",
       "      <td>136.463700</td>\n",
       "      <td>...</td>\n",
       "      <td>9.199160</td>\n",
       "      <td>202.000000</td>\n",
       "      <td>197.000000</td>\n",
       "      <td>193.250000</td>\n",
       "      <td>0.994256</td>\n",
       "      <td>0.993197</td>\n",
       "      <td>0.983471</td>\n",
       "      <td>1384.654910</td>\n",
       "      <td>1206.669310</td>\n",
       "      <td>1.000000</td>\n",
       "    </tr>\n",
       "    <tr>\n",
       "      <th>max</th>\n",
       "      <td>699.00000</td>\n",
       "      <td>207.160800</td>\n",
       "      <td>52.226058</td>\n",
       "      <td>44.499978</td>\n",
       "      <td>5.645803</td>\n",
       "      <td>198.134400</td>\n",
       "      <td>51.168733</td>\n",
       "      <td>44.984072</td>\n",
       "      <td>5.623845</td>\n",
       "      <td>196.270800</td>\n",
       "      <td>...</td>\n",
       "      <td>9.209413</td>\n",
       "      <td>255.000000</td>\n",
       "      <td>254.000000</td>\n",
       "      <td>255.000000</td>\n",
       "      <td>0.998194</td>\n",
       "      <td>0.998387</td>\n",
       "      <td>0.997126</td>\n",
       "      <td>2727.561173</td>\n",
       "      <td>2618.239239</td>\n",
       "      <td>1.000000</td>\n",
       "    </tr>\n",
       "  </tbody>\n",
       "</table>\n",
       "<p>8 rows × 25 columns</p>\n",
       "</div>"
      ],
      "text/plain": [
       "       Unnamed: 0      mean_r       std_r       kur_r      skew_r      mean_g  \\\n",
       "count   700.00000  700.000000  700.000000  700.000000  700.000000  700.000000   \n",
       "mean    349.50000  129.904131   29.725915    0.783304    0.210021  129.513118   \n",
       "std     202.21688   22.533741    9.721830    2.921148    0.832188   20.781828   \n",
       "min       0.00000   72.085700    5.257114   -1.616288   -3.788320   78.022200   \n",
       "25%     174.75000  117.223100   21.865794   -0.520055   -0.251850  118.032050   \n",
       "50%     349.50000  127.525400   31.030772   -0.071472    0.211199  127.457500   \n",
       "75%     524.25000  140.418825   37.210949    1.042058    0.593044  138.861175   \n",
       "max     699.00000  207.160800   52.226058   44.499978    5.645803  198.134400   \n",
       "\n",
       "            std_g       kur_g      skew_g      mean_b  ...  contrast_r  \\\n",
       "count  700.000000  700.000000  700.000000  700.000000  ...  700.000000   \n",
       "mean    28.191406    0.905234    0.210064  128.842019  ...    9.185198   \n",
       "std      9.279358    3.000051    0.848674   19.436542  ...    0.018515   \n",
       "min      4.543611   -1.567842   -3.761659   82.738400  ...    9.085941   \n",
       "25%     20.951718   -0.460405   -0.247178  118.039500  ...    9.177954   \n",
       "50%     29.333898   -0.011488    0.202783  126.579200  ...    9.188351   \n",
       "75%     34.737146    1.177957    0.613642  136.463700  ...    9.199160   \n",
       "max     51.168733   44.984072    5.623845  196.270800  ...    9.209413   \n",
       "\n",
       "       contrast_g  contrast_b     corr_rg     corr_rb     corr_gb    moment_r  \\\n",
       "count  700.000000  700.000000  700.000000  700.000000  700.000000  700.000000   \n",
       "mean   178.245714  173.781429  170.375714    0.984945    0.982444    0.958198   \n",
       "std     33.888983   34.655417   35.610478    0.024409    0.027450    0.069144   \n",
       "min     55.000000   48.000000   52.000000    0.731441    0.740211    0.279195   \n",
       "25%    152.750000  150.000000  146.000000    0.984907    0.982613    0.957100   \n",
       "50%    184.500000  179.000000  175.000000    0.991413    0.989603    0.974893   \n",
       "75%    202.000000  197.000000  193.250000    0.994256    0.993197    0.983471   \n",
       "max    255.000000  254.000000  255.000000    0.998194    0.998387    0.997126   \n",
       "\n",
       "          moment_g     moment_b       label  \n",
       "count   700.000000   700.000000  700.000000  \n",
       "mean    978.008986   880.738813    0.498571  \n",
       "std     565.834008   520.580605    0.500355  \n",
       "min      27.637244    20.644398    0.000000  \n",
       "25%     478.115830   438.975044    0.000000  \n",
       "50%     962.908945   860.477925    0.000000  \n",
       "75%    1384.654910  1206.669310    1.000000  \n",
       "max    2727.561173  2618.239239    1.000000  \n",
       "\n",
       "[8 rows x 25 columns]"
      ]
     },
     "execution_count": 8,
     "metadata": {},
     "output_type": "execute_result"
    }
   ],
   "source": [
    "data.describe()"
   ]
  },
  {
   "cell_type": "code",
   "execution_count": 10,
   "metadata": {},
   "outputs": [],
   "source": [
    "X = data.iloc[:,:-1].values\n",
    "Y = data.iloc[:,-1:].values"
   ]
  },
  {
   "cell_type": "code",
   "execution_count": 11,
   "metadata": {},
   "outputs": [
    {
     "name": "stdout",
     "output_type": "stream",
     "text": [
      "[(700, 24), (700, 1)]\n"
     ]
    }
   ],
   "source": [
    "print([X.shape,Y.shape])"
   ]
  },
  {
   "cell_type": "code",
   "execution_count": 12,
   "metadata": {},
   "outputs": [],
   "source": [
    "def normalize(X):\n",
    "  return (X - np.mean(X,axis = 0))/np.std(X,axis = 0)\n",
    "X = normalize(X)"
   ]
  },
  {
   "cell_type": "code",
   "execution_count": 13,
   "metadata": {},
   "outputs": [],
   "source": [
    "X_train, X_test, y_train, y_test = train_test_split(X, Y, test_size=0.2, random_state=42)"
   ]
  },
  {
   "cell_type": "code",
   "execution_count": 14,
   "metadata": {},
   "outputs": [
    {
     "data": {
      "text/plain": [
       "(560, 24)"
      ]
     },
     "execution_count": 14,
     "metadata": {},
     "output_type": "execute_result"
    }
   ],
   "source": [
    "X_train.shape"
   ]
  },
  {
   "cell_type": "code",
   "execution_count": 15,
   "metadata": {},
   "outputs": [
    {
     "data": {
      "text/plain": [
       "(140, 24)"
      ]
     },
     "execution_count": 15,
     "metadata": {},
     "output_type": "execute_result"
    }
   ],
   "source": [
    "X_test.shape"
   ]
  },
  {
   "cell_type": "code",
   "execution_count": 16,
   "metadata": {},
   "outputs": [],
   "source": [
    "from sklearn.linear_model import LogisticRegression\n",
    "model = LogisticRegression()"
   ]
  },
  {
   "cell_type": "code",
   "execution_count": 17,
   "metadata": {},
   "outputs": [
    {
     "data": {
      "text/html": [
       "<style>#sk-container-id-1 {color: black;background-color: white;}#sk-container-id-1 pre{padding: 0;}#sk-container-id-1 div.sk-toggleable {background-color: white;}#sk-container-id-1 label.sk-toggleable__label {cursor: pointer;display: block;width: 100%;margin-bottom: 0;padding: 0.3em;box-sizing: border-box;text-align: center;}#sk-container-id-1 label.sk-toggleable__label-arrow:before {content: \"▸\";float: left;margin-right: 0.25em;color: #696969;}#sk-container-id-1 label.sk-toggleable__label-arrow:hover:before {color: black;}#sk-container-id-1 div.sk-estimator:hover label.sk-toggleable__label-arrow:before {color: black;}#sk-container-id-1 div.sk-toggleable__content {max-height: 0;max-width: 0;overflow: hidden;text-align: left;background-color: #f0f8ff;}#sk-container-id-1 div.sk-toggleable__content pre {margin: 0.2em;color: black;border-radius: 0.25em;background-color: #f0f8ff;}#sk-container-id-1 input.sk-toggleable__control:checked~div.sk-toggleable__content {max-height: 200px;max-width: 100%;overflow: auto;}#sk-container-id-1 input.sk-toggleable__control:checked~label.sk-toggleable__label-arrow:before {content: \"▾\";}#sk-container-id-1 div.sk-estimator input.sk-toggleable__control:checked~label.sk-toggleable__label {background-color: #d4ebff;}#sk-container-id-1 div.sk-label input.sk-toggleable__control:checked~label.sk-toggleable__label {background-color: #d4ebff;}#sk-container-id-1 input.sk-hidden--visually {border: 0;clip: rect(1px 1px 1px 1px);clip: rect(1px, 1px, 1px, 1px);height: 1px;margin: -1px;overflow: hidden;padding: 0;position: absolute;width: 1px;}#sk-container-id-1 div.sk-estimator {font-family: monospace;background-color: #f0f8ff;border: 1px dotted black;border-radius: 0.25em;box-sizing: border-box;margin-bottom: 0.5em;}#sk-container-id-1 div.sk-estimator:hover {background-color: #d4ebff;}#sk-container-id-1 div.sk-parallel-item::after {content: \"\";width: 100%;border-bottom: 1px solid gray;flex-grow: 1;}#sk-container-id-1 div.sk-label:hover label.sk-toggleable__label {background-color: #d4ebff;}#sk-container-id-1 div.sk-serial::before {content: \"\";position: absolute;border-left: 1px solid gray;box-sizing: border-box;top: 0;bottom: 0;left: 50%;z-index: 0;}#sk-container-id-1 div.sk-serial {display: flex;flex-direction: column;align-items: center;background-color: white;padding-right: 0.2em;padding-left: 0.2em;position: relative;}#sk-container-id-1 div.sk-item {position: relative;z-index: 1;}#sk-container-id-1 div.sk-parallel {display: flex;align-items: stretch;justify-content: center;background-color: white;position: relative;}#sk-container-id-1 div.sk-item::before, #sk-container-id-1 div.sk-parallel-item::before {content: \"\";position: absolute;border-left: 1px solid gray;box-sizing: border-box;top: 0;bottom: 0;left: 50%;z-index: -1;}#sk-container-id-1 div.sk-parallel-item {display: flex;flex-direction: column;z-index: 1;position: relative;background-color: white;}#sk-container-id-1 div.sk-parallel-item:first-child::after {align-self: flex-end;width: 50%;}#sk-container-id-1 div.sk-parallel-item:last-child::after {align-self: flex-start;width: 50%;}#sk-container-id-1 div.sk-parallel-item:only-child::after {width: 0;}#sk-container-id-1 div.sk-dashed-wrapped {border: 1px dashed gray;margin: 0 0.4em 0.5em 0.4em;box-sizing: border-box;padding-bottom: 0.4em;background-color: white;}#sk-container-id-1 div.sk-label label {font-family: monospace;font-weight: bold;display: inline-block;line-height: 1.2em;}#sk-container-id-1 div.sk-label-container {text-align: center;}#sk-container-id-1 div.sk-container {/* jupyter's `normalize.less` sets `[hidden] { display: none; }` but bootstrap.min.css set `[hidden] { display: none !important; }` so we also need the `!important` here to be able to override the default hidden behavior on the sphinx rendered scikit-learn.org. See: https://github.com/scikit-learn/scikit-learn/issues/21755 */display: inline-block !important;position: relative;}#sk-container-id-1 div.sk-text-repr-fallback {display: none;}</style><div id=\"sk-container-id-1\" class=\"sk-top-container\"><div class=\"sk-text-repr-fallback\"><pre>LogisticRegression()</pre><b>In a Jupyter environment, please rerun this cell to show the HTML representation or trust the notebook. <br />On GitHub, the HTML representation is unable to render, please try loading this page with nbviewer.org.</b></div><div class=\"sk-container\" hidden><div class=\"sk-item\"><div class=\"sk-estimator sk-toggleable\"><input class=\"sk-toggleable__control sk-hidden--visually\" id=\"sk-estimator-id-1\" type=\"checkbox\" checked><label for=\"sk-estimator-id-1\" class=\"sk-toggleable__label sk-toggleable__label-arrow\">LogisticRegression</label><div class=\"sk-toggleable__content\"><pre>LogisticRegression()</pre></div></div></div></div></div>"
      ],
      "text/plain": [
       "LogisticRegression()"
      ]
     },
     "execution_count": 17,
     "metadata": {},
     "output_type": "execute_result"
    }
   ],
   "source": [
    "model.fit(X_train,y_train.ravel())"
   ]
  },
  {
   "cell_type": "code",
   "execution_count": 18,
   "metadata": {},
   "outputs": [
    {
     "data": {
      "text/plain": [
       "array([1, 0, 0, 1, 0, 1, 0, 1, 1, 0, 1, 0, 0, 0, 1, 0, 0, 1, 0, 0, 0, 0,\n",
       "       1, 1, 0, 0, 1, 0, 0, 1, 1, 0, 0, 1, 0, 0, 1, 1, 1, 1, 0, 0, 1, 1,\n",
       "       1, 1, 0, 0, 1, 1, 0, 1, 0, 1, 0, 1, 0, 1, 1, 0, 0, 0, 0, 1, 0, 0,\n",
       "       1, 1, 0, 1, 1, 1, 1, 0, 0, 1, 0, 0, 1, 0, 1, 1, 1, 1, 1, 0, 1, 1,\n",
       "       0, 0, 1, 0, 0, 0, 0, 1, 0, 0, 1, 1, 1, 1, 1, 1, 0, 1, 1, 1, 0, 1,\n",
       "       1, 0, 0, 0, 0, 1, 1, 1, 1, 1, 0, 1, 0, 1, 1, 1, 1, 0, 1, 0, 0, 1,\n",
       "       0, 1, 1, 0, 0, 0, 0, 1], dtype=int64)"
      ]
     },
     "execution_count": 18,
     "metadata": {},
     "output_type": "execute_result"
    }
   ],
   "source": [
    "model.predict(X_test)"
   ]
  },
  {
   "cell_type": "code",
   "execution_count": 19,
   "metadata": {},
   "outputs": [
    {
     "data": {
      "text/plain": [
       "0.8785714285714286"
      ]
     },
     "execution_count": 19,
     "metadata": {},
     "output_type": "execute_result"
    }
   ],
   "source": [
    "model.score(X_test,y_test)"
   ]
  }
 ],
 "metadata": {
  "kernelspec": {
   "display_name": "Python 3.10.5 64-bit",
   "language": "python",
   "name": "python3"
  },
  "language_info": {
   "codemirror_mode": {
    "name": "ipython",
    "version": 3
   },
   "file_extension": ".py",
   "mimetype": "text/x-python",
   "name": "python",
   "nbconvert_exporter": "python",
   "pygments_lexer": "ipython3",
   "version": "3.10.5"
  },
  "orig_nbformat": 4,
  "vscode": {
   "interpreter": {
    "hash": "918b9c3ea0116da6d1a9e5d4728f48cb3f24a258ebfcc9b2de43cf9346626eac"
   }
  }
 },
 "nbformat": 4,
 "nbformat_minor": 2
}
